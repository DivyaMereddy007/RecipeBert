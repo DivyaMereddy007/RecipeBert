{
  "cells": [
    {
      "cell_type": "code",
      "execution_count": 5,
      "id": "a8e0204c-33db-49f5-a5c6-4f455b2ebbde",
      "metadata": {
        "ExecuteTime": {
          "end_time": "2023-10-20T00:02:41.478182+00:00",
          "start_time": "2023-10-20T00:02:41.321598+00:00"
        },
        "jupyter": {
          "outputs_hidden": false,
          "source_hidden": false
        },
        "noteable": {
          "cell_type": "code",
          "output_collection_id": "5e3f649e-7aa4-4f11-9c9c-e9cf097b7827"
        }
      },
      "outputs": [],
      "source": []
    },
    {
      "cell_type": "code",
      "execution_count": 6,
      "id": "c30b59c1-f84c-4b11-b0fa-0170c67a9dc2",
      "metadata": {
        "ExecuteTime": {
          "end_time": "2023-10-20T00:02:24.255857+00:00",
          "start_time": "2023-10-20T00:01:40.580485+00:00"
        },
        "noteable": {
          "cell_type": "code",
          "output_collection_id": "09c2004a-4da2-4261-b2ce-89bd562b6b2c"
        }
      },
      "outputs": [],
      "source": [
        "import pandas as pd,numpy as np\n",
        "RecipeRLG=pd.read_csv('full_dataset.csv')"
      ]
    },
    {
      "cell_type": "code",
      "execution_count": 7,
      "id": "4a8911bf-da21-487d-b0f6-abd9d137ccff",
      "metadata": {
        "ExecuteTime": {
          "end_time": "2023-10-20T00:02:27.724826+00:00",
          "start_time": "2023-10-20T00:02:27.379026+00:00"
        },
        "jupyter": {
          "outputs_hidden": false,
          "source_hidden": false
        },
        "noteable": {
          "cell_type": "code",
          "output_collection_id": "9b5694c4-bcad-4b23-bf8f-bb8d793c5549"
        }
      },
      "outputs": [
        {
          "data": {
            "text/html": [
              "<div>\n",
              "<style scoped>\n",
              "    .dataframe tbody tr th:only-of-type {\n",
              "        vertical-align: middle;\n",
              "    }\n",
              "\n",
              "    .dataframe tbody tr th {\n",
              "        vertical-align: top;\n",
              "    }\n",
              "\n",
              "    .dataframe thead th {\n",
              "        text-align: right;\n",
              "    }\n",
              "</style>\n",
              "<table border=\"1\" class=\"dataframe\">\n",
              "  <thead>\n",
              "    <tr style=\"text-align: right;\">\n",
              "      <th></th>\n",
              "      <th>Unnamed: 0</th>\n",
              "      <th>title</th>\n",
              "      <th>ingredients</th>\n",
              "      <th>directions</th>\n",
              "      <th>link</th>\n",
              "      <th>source</th>\n",
              "      <th>NER</th>\n",
              "    </tr>\n",
              "  </thead>\n",
              "  <tbody>\n",
              "    <tr>\n",
              "      <th>0</th>\n",
              "      <td>0</td>\n",
              "      <td>No-Bake Nut Cookies</td>\n",
              "      <td>[\"1 c. firmly packed brown sugar\", \"1/2 c. eva...</td>\n",
              "      <td>[\"In a heavy 2-quart saucepan, mix brown sugar...</td>\n",
              "      <td>www.cookbooks.com/Recipe-Details.aspx?id=44874</td>\n",
              "      <td>Gathered</td>\n",
              "      <td>[\"brown sugar\", \"milk\", \"vanilla\", \"nuts\", \"bu...</td>\n",
              "    </tr>\n",
              "    <tr>\n",
              "      <th>1</th>\n",
              "      <td>1</td>\n",
              "      <td>Jewell Ball'S Chicken</td>\n",
              "      <td>[\"1 small jar chipped beef, cut up\", \"4 boned ...</td>\n",
              "      <td>[\"Place chipped beef on bottom of baking dish....</td>\n",
              "      <td>www.cookbooks.com/Recipe-Details.aspx?id=699419</td>\n",
              "      <td>Gathered</td>\n",
              "      <td>[\"beef\", \"chicken breasts\", \"cream of mushroom...</td>\n",
              "    </tr>\n",
              "    <tr>\n",
              "      <th>2</th>\n",
              "      <td>2</td>\n",
              "      <td>Creamy Corn</td>\n",
              "      <td>[\"2 (16 oz.) pkg. frozen corn\", \"1 (8 oz.) pkg...</td>\n",
              "      <td>[\"In a slow cooker, combine all ingredients. C...</td>\n",
              "      <td>www.cookbooks.com/Recipe-Details.aspx?id=10570</td>\n",
              "      <td>Gathered</td>\n",
              "      <td>[\"frozen corn\", \"cream cheese\", \"butter\", \"gar...</td>\n",
              "    </tr>\n",
              "    <tr>\n",
              "      <th>3</th>\n",
              "      <td>3</td>\n",
              "      <td>Chicken Funny</td>\n",
              "      <td>[\"1 large whole chicken\", \"2 (10 1/2 oz.) cans...</td>\n",
              "      <td>[\"Boil and debone chicken.\", \"Put bite size pi...</td>\n",
              "      <td>www.cookbooks.com/Recipe-Details.aspx?id=897570</td>\n",
              "      <td>Gathered</td>\n",
              "      <td>[\"chicken\", \"chicken gravy\", \"cream of mushroo...</td>\n",
              "    </tr>\n",
              "    <tr>\n",
              "      <th>4</th>\n",
              "      <td>4</td>\n",
              "      <td>Reeses Cups(Candy)</td>\n",
              "      <td>[\"1 c. peanut butter\", \"3/4 c. graham cracker ...</td>\n",
              "      <td>[\"Combine first four ingredients and press in ...</td>\n",
              "      <td>www.cookbooks.com/Recipe-Details.aspx?id=659239</td>\n",
              "      <td>Gathered</td>\n",
              "      <td>[\"peanut butter\", \"graham cracker crumbs\", \"bu...</td>\n",
              "    </tr>\n",
              "  </tbody>\n",
              "</table>\n",
              "</div>"
            ],
            "text/plain": [
              "   Unnamed: 0                  title  \\\n",
              "0           0    No-Bake Nut Cookies   \n",
              "1           1  Jewell Ball'S Chicken   \n",
              "2           2            Creamy Corn   \n",
              "3           3          Chicken Funny   \n",
              "4           4   Reeses Cups(Candy)     \n",
              "\n",
              "                                         ingredients  \\\n",
              "0  [\"1 c. firmly packed brown sugar\", \"1/2 c. eva...   \n",
              "1  [\"1 small jar chipped beef, cut up\", \"4 boned ...   \n",
              "2  [\"2 (16 oz.) pkg. frozen corn\", \"1 (8 oz.) pkg...   \n",
              "3  [\"1 large whole chicken\", \"2 (10 1/2 oz.) cans...   \n",
              "4  [\"1 c. peanut butter\", \"3/4 c. graham cracker ...   \n",
              "\n",
              "                                          directions  \\\n",
              "0  [\"In a heavy 2-quart saucepan, mix brown sugar...   \n",
              "1  [\"Place chipped beef on bottom of baking dish....   \n",
              "2  [\"In a slow cooker, combine all ingredients. C...   \n",
              "3  [\"Boil and debone chicken.\", \"Put bite size pi...   \n",
              "4  [\"Combine first four ingredients and press in ...   \n",
              "\n",
              "                                              link    source  \\\n",
              "0   www.cookbooks.com/Recipe-Details.aspx?id=44874  Gathered   \n",
              "1  www.cookbooks.com/Recipe-Details.aspx?id=699419  Gathered   \n",
              "2   www.cookbooks.com/Recipe-Details.aspx?id=10570  Gathered   \n",
              "3  www.cookbooks.com/Recipe-Details.aspx?id=897570  Gathered   \n",
              "4  www.cookbooks.com/Recipe-Details.aspx?id=659239  Gathered   \n",
              "\n",
              "                                                 NER  \n",
              "0  [\"brown sugar\", \"milk\", \"vanilla\", \"nuts\", \"bu...  \n",
              "1  [\"beef\", \"chicken breasts\", \"cream of mushroom...  \n",
              "2  [\"frozen corn\", \"cream cheese\", \"butter\", \"gar...  \n",
              "3  [\"chicken\", \"chicken gravy\", \"cream of mushroo...  \n",
              "4  [\"peanut butter\", \"graham cracker crumbs\", \"bu...  "
            ]
          },
          "execution_count": 7,
          "metadata": {},
          "output_type": "execute_result"
        }
      ],
      "source": [
        "RecipeRLG.head()"
      ]
    },
    {
      "cell_type": "code",
      "execution_count": null,
      "id": "5a5f13dc-c6ee-4960-8a9e-ad6410371993",
      "metadata": {
        "jupyter": {
          "outputs_hidden": false,
          "source_hidden": false
        },
        "noteable": {
          "cell_type": "code"
        }
      },
      "outputs": [],
      "source": []
    },
    {
      "cell_type": "code",
      "execution_count": null,
      "id": "65f66255-eac9-4787-97ef-c3781603649d",
      "metadata": {
        "ExecuteTime": {
          "end_time": "2023-10-20T00:05:11.845868+00:00",
          "start_time": "2023-10-20T00:05:11.652932+00:00"
        },
        "datalink": {
          "fd3b01b7-9942-48cf-8c14-33194bc57653": {
            "applied_filters": [],
            "dataframe_info": {
              "default_index_used": true,
              "orig_num_cols": 5,
              "orig_num_rows": 10,
              "orig_size_bytes": 480,
              "truncated_num_cols": 5,
              "truncated_num_rows": 10,
              "truncated_size_bytes": 480,
              "truncated_string_columns": []
            },
            "display_id": "fd3b01b7-9942-48cf-8c14-33194bc57653",
            "dx_settings": {
              "ALLOW_NOTEABLE_ATTRS": true,
              "COLUMN_SAMPLING_METHOD": "outer",
              "DB_LOCATION": ":memory:",
              "DEV_MODE": false,
              "DISPLAY_MAX_COLUMNS": 100,
              "DISPLAY_MAX_ROWS": 50000,
              "DISPLAY_MODE": "simple",
              "ENABLE_ASSIGNMENT": true,
              "ENABLE_DATALINK": true,
              "FLATTEN_COLUMN_VALUES": true,
              "FLATTEN_INDEX_VALUES": false,
              "GENERATE_DEX_METADATA": false,
              "HTML_TABLE_SCHEMA": false,
              "LOG_LEVEL": 30,
              "MAX_RENDER_SIZE_BYTES": 104857600,
              "MAX_STRING_LENGTH": 250,
              "NUM_PAST_SAMPLES_TRACKED": 3,
              "RANDOM_STATE": 12648430,
              "RESET_INDEX_VALUES": false,
              "ROW_SAMPLING_METHOD": "random",
              "SAMPLING_FACTOR": 0.1,
              "SAMPLING_METHOD": "random",
              "STRINGIFY_COLUMN_VALUES": true,
              "STRINGIFY_INDEX_VALUES": false
            },
            "sample_history": [],
            "sampling_time": "2023-10-20T00:05:11.683109",
            "user_variable_name": "recipe_dummy_df",
            "variable_name": "recipe_dummy_df"
          }
        },
        "noteable": {
          "cell_type": "code",
          "output_collection_id": "d51b897c-25a5-436b-911f-bfacedf8013a"
        }
      },
      "outputs": [],
      "source": [
        "import pandas as pd\n",
        "import numpy as np\n",
        "\n",
        "# Create dummy data mimicking the RecipeNLG dataset structure\n",
        "data = {'recipe_id': np.arange(1, 11),\n",
        "        'title': ['Pasta', 'Pizza', 'Salad', 'Soup', 'Bread', 'Cake', 'Pie', 'Rice', 'Chicken', 'Fish'],\n",
        "        'ingredients': ['ingredient1, ingredient2', 'ingredient3, ingredient4', 'ingredient5, ingredient6', 'ingredient7, ingredient8', 'ingredient9, ingredient10',\n",
        "                        'ingredient11, ingredient12', 'ingredient13, ingredient14', 'ingredient15, ingredient16', 'ingredient17, ingredient18', 'ingredient19, ingredient20'],\n",
        "        'instructions': ['Step 1, Step 2', 'Step 3, Step 4', 'Step 5, Step 6', 'Step 7, Step 8', 'Step 9, Step 10',\n",
        "                         'Step 11, Step 12', 'Step 13, Step 14', 'Step 15, Step 16', 'Step 17, Step 18', 'Step 19, Step 20'],\n",
        "        'ratings': np.random.randint(1, 6, size=10)}\n",
        "\n",
        "# Create a DataFrame\n",
        "recipe_dummy_df = pd.DataFrame(data)\n",
        "\n",
        "# Display the DataFrame\n",
        "recipe_dummy_df"
      ]
    },
    {
      "cell_type": "code",
      "execution_count": null,
      "id": "44aed7b3-b07d-4da9-a6c5-ef2baed6fa99",
      "metadata": {
        "ExecuteTime": {
          "end_time": "2023-10-20T00:06:13.122246+00:00",
          "start_time": "2023-10-20T00:06:12.927968+00:00"
        },
        "datalink": {
          "c78b07b1-f455-4096-ad4f-8dfe9e10ae43": {
            "applied_filters": [],
            "dataframe_info": {
              "default_index_used": false,
              "orig_num_cols": 2,
              "orig_num_rows": 8,
              "orig_size_bytes": 192,
              "truncated_num_cols": 2,
              "truncated_num_rows": 8,
              "truncated_size_bytes": 192,
              "truncated_string_columns": []
            },
            "display_id": "c78b07b1-f455-4096-ad4f-8dfe9e10ae43",
            "dx_settings": {
              "ALLOW_NOTEABLE_ATTRS": true,
              "COLUMN_SAMPLING_METHOD": "outer",
              "DB_LOCATION": ":memory:",
              "DEV_MODE": false,
              "DISPLAY_MAX_COLUMNS": 100,
              "DISPLAY_MAX_ROWS": 50000,
              "DISPLAY_MODE": "simple",
              "ENABLE_ASSIGNMENT": true,
              "ENABLE_DATALINK": true,
              "FLATTEN_COLUMN_VALUES": true,
              "FLATTEN_INDEX_VALUES": false,
              "GENERATE_DEX_METADATA": false,
              "HTML_TABLE_SCHEMA": false,
              "LOG_LEVEL": 30,
              "MAX_RENDER_SIZE_BYTES": 104857600,
              "MAX_STRING_LENGTH": 250,
              "NUM_PAST_SAMPLES_TRACKED": 3,
              "RANDOM_STATE": 12648430,
              "RESET_INDEX_VALUES": false,
              "ROW_SAMPLING_METHOD": "random",
              "SAMPLING_FACTOR": 0.1,
              "SAMPLING_METHOD": "random",
              "STRINGIFY_COLUMN_VALUES": true,
              "STRINGIFY_INDEX_VALUES": false
            },
            "sample_history": [],
            "sampling_time": "2023-10-20T00:06:12.961286",
            "user_variable_name": null,
            "variable_name": "unk_dataframe_ed097bb4df69453daa8d85c74b264c05"
          }
        },
        "noteable": {
          "cell_type": "code",
          "output_collection_id": "2aa2dd38-0ad0-44eb-b994-ce6c9de83ec6"
        }
      },
      "outputs": [],
      "source": [
        "# Basic statistics of numerical columns\n",
        "recipe_dummy_df.describe()"
      ]
    },
    {
      "cell_type": "code",
      "execution_count": null,
      "id": "3aa603d5-d263-49bf-89f7-2ad6f9d1cc1e",
      "metadata": {
        "ExecuteTime": {
          "end_time": "2023-10-20T00:06:25.598050+00:00",
          "start_time": "2023-10-20T00:06:24.816704+00:00"
        },
        "noteable": {
          "cell_type": "code",
          "output_collection_id": "6dd33b49-7cf3-436b-9d26-c63fa40b6298"
        }
      },
      "outputs": [],
      "source": [
        "# Distribution of ratings\n",
        "import matplotlib.pyplot as plt\n",
        "\n",
        "plt.figure(figsize=(8, 6))\n",
        "plt.hist(recipe_dummy_df['ratings'], bins=5, edgecolor='black')\n",
        "plt.title('Distribution of Ratings')\n",
        "plt.xlabel('Ratings')\n",
        "plt.ylabel('Frequency')\n",
        "plt.show()"
      ]
    },
    {
      "cell_type": "code",
      "execution_count": null,
      "id": "77740929-4cb7-4a83-9a77-6f8fb498e2a4",
      "metadata": {
        "ExecuteTime": {
          "end_time": "2023-10-20T00:07:43.014543+00:00",
          "start_time": "2023-10-20T00:07:42.856682+00:00"
        },
        "noteable": {
          "cell_type": "code",
          "output_collection_id": "3fdbb379-ad63-47e8-a7dd-2face4456649"
        }
      },
      "outputs": [],
      "source": [
        "# Count of unique ingredients and instructions\n",
        "unique_ingredients = recipe_dummy_df['ingredients'].apply(lambda x: len(set(x.split(', ')))).sum()\n",
        "unique_instructions = recipe_dummy_df['instructions'].apply(lambda x: len(set(x.split(', ')))).sum()\n",
        "\n",
        "unique_ingredients, unique_instructions"
      ]
    },
    {
      "cell_type": "code",
      "execution_count": null,
      "id": "af45b130-75c6-4b06-8d37-585441ce50ac",
      "metadata": {
        "ExecuteTime": {
          "end_time": "2023-10-20T00:12:06.261802+00:00",
          "start_time": "2023-10-20T00:12:06.102480+00:00"
        },
        "noteable": {
          "cell_type": "code",
          "output_collection_id": "cc3fa896-126d-4240-84f0-61deb4c04844"
        }
      },
      "outputs": [],
      "source": [
        "from collections import Counter\n",
        "\n",
        "# Ingredient Frequency\n",
        "all_ingredients = [ingredient for sublist in recipe_dummy_df['ingredients'].apply(lambda x: x.split(', ')).tolist() for ingredient in sublist]\n",
        "ingredient_count = Counter(all_ingredients)\n",
        "\n",
        "ingredient_count"
      ]
    },
    {
      "cell_type": "code",
      "execution_count": null,
      "id": "0e5e0eea-1443-4216-aa3d-062be4e594cc",
      "metadata": {
        "ExecuteTime": {
          "end_time": "2023-10-20T00:12:24.588053+00:00",
          "start_time": "2023-10-20T00:12:24.264507+00:00"
        },
        "noteable": {
          "cell_type": "code",
          "output_collection_id": "dcd3f08b-64b6-4b18-b7fb-cec3aa44371a"
        }
      },
      "outputs": [],
      "source": [
        "# Instruction Complexity\n",
        "instruction_complexity = recipe_dummy_df['instructions'].apply(lambda x: len(x.split(', ')))\n",
        "\n",
        "# Plotting the distribution of instruction complexity\n",
        "plt.figure(figsize=(8, 6))\n",
        "plt.hist(instruction_complexity, bins=5, edgecolor='black')\n",
        "plt.title('Distribution of Instruction Complexity')\n",
        "plt.xlabel('Number of Steps')\n",
        "plt.ylabel('Frequency')\n",
        "plt.show()"
      ]
    },
    {
      "cell_type": "code",
      "execution_count": null,
      "id": "c02f9dfb-8df5-4544-806e-dbf2d961e554",
      "metadata": {
        "ExecuteTime": {
          "end_time": "2023-10-20T00:12:40.997533+00:00",
          "start_time": "2023-10-20T00:12:40.673208+00:00"
        },
        "noteable": {
          "cell_type": "code",
          "output_collection_id": "ace2a031-b11f-4cf8-9f0e-e6c2cdbd980b"
        }
      },
      "outputs": [],
      "source": [
        "# Ingredient-Instruction Relationship\n",
        "\n",
        "# Count of unique ingredients per instruction step\n",
        "ingredient_instruction_relation = recipe_dummy_df.apply(lambda x: len(set(x['ingredients'].split(', '))) / len(set(x['instructions'].split(', '))), axis=1)\n",
        "\n",
        "# Plotting the relationship\n",
        "plt.figure(figsize=(8, 6))\n",
        "plt.hist(ingredient_instruction_relation, bins=5, edgecolor='black')\n",
        "plt.title('Ingredient-Instruction Relationship')\n",
        "plt.xlabel('Ingredients per Instruction Step')\n",
        "plt.ylabel('Frequency')\n",
        "plt.show()"
      ]
    },
    {
      "cell_type": "code",
      "execution_count": null,
      "id": "6615eb1c-e101-449e-bee6-50cd42b93dd7",
      "metadata": {
        "ExecuteTime": {
          "end_time": "2023-10-20T00:16:09.587643+00:00",
          "start_time": "2023-10-20T00:16:09.392237+00:00"
        },
        "datalink": {
          "e5bc30c0-62d3-490c-a436-c975c8a5431b": {
            "applied_filters": [],
            "dataframe_info": {
              "default_index_used": true,
              "orig_num_cols": 5,
              "orig_num_rows": 5,
              "orig_size_bytes": 240,
              "truncated_num_cols": 5,
              "truncated_num_rows": 5,
              "truncated_size_bytes": 240,
              "truncated_string_columns": []
            },
            "display_id": "e5bc30c0-62d3-490c-a436-c975c8a5431b",
            "dx_settings": {
              "ALLOW_NOTEABLE_ATTRS": true,
              "COLUMN_SAMPLING_METHOD": "outer",
              "DB_LOCATION": ":memory:",
              "DEV_MODE": false,
              "DISPLAY_MAX_COLUMNS": 100,
              "DISPLAY_MAX_ROWS": 50000,
              "DISPLAY_MODE": "simple",
              "ENABLE_ASSIGNMENT": true,
              "ENABLE_DATALINK": true,
              "FLATTEN_COLUMN_VALUES": true,
              "FLATTEN_INDEX_VALUES": false,
              "GENERATE_DEX_METADATA": false,
              "HTML_TABLE_SCHEMA": false,
              "LOG_LEVEL": 30,
              "MAX_RENDER_SIZE_BYTES": 104857600,
              "MAX_STRING_LENGTH": 250,
              "NUM_PAST_SAMPLES_TRACKED": 3,
              "RANDOM_STATE": 12648430,
              "RESET_INDEX_VALUES": false,
              "ROW_SAMPLING_METHOD": "random",
              "SAMPLING_FACTOR": 0.1,
              "SAMPLING_METHOD": "random",
              "STRINGIFY_COLUMN_VALUES": true,
              "STRINGIFY_INDEX_VALUES": false
            },
            "sample_history": [],
            "sampling_time": "2023-10-20T00:16:09.428157",
            "user_variable_name": null,
            "variable_name": "unk_dataframe_86de27641a5542b4929522e70b77f4fb"
          }
        },
        "noteable": {
          "cell_type": "code",
          "output_collection_id": "3a9bd362-27a4-4d50-af48-f143f744a31b"
        }
      },
      "outputs": [],
      "source": [
        "# Display the first few rows of the dummy dataset\n",
        "recipe_dummy_df.head()"
      ]
    },
    {
      "cell_type": "code",
      "execution_count": null,
      "id": "698568e9-a6c9-4840-9fcd-dcf48a535ac8",
      "metadata": {
        "ExecuteTime": {
          "end_time": "2023-10-20T00:17:43.988538+00:00",
          "start_time": "2023-10-20T00:17:43.662442+00:00"
        },
        "noteable": {
          "cell_type": "code",
          "output_collection_id": "ae7d85d6-b66b-459a-9ba7-33338c5a57cc"
        }
      },
      "outputs": [],
      "source": [
        "# Count of unique ingredients per recipe\n",
        "ingredients_per_recipe = recipe_dummy_df['ingredients'].apply(lambda x: len(x.split(', ')))\n",
        "\n",
        "# Plotting the distribution of unique ingredients per recipe\n",
        "plt.figure(figsize=(8, 6))\n",
        "plt.hist(ingredients_per_recipe, bins=5, edgecolor='black')\n",
        "plt.title('Distribution of Unique Ingredients Per Recipe')\n",
        "plt.xlabel('Number of Unique Ingredients')\n",
        "plt.ylabel('Frequency')\n",
        "plt.show()"
      ]
    },
    {
      "cell_type": "code",
      "execution_count": null,
      "id": "ed944f98-078a-42d8-a192-d9b032c4ef8a",
      "metadata": {
        "ExecuteTime": {
          "end_time": "2023-10-20T00:18:40.988760+00:00",
          "start_time": "2023-10-20T00:18:40.653166+00:00"
        },
        "noteable": {
          "cell_type": "code",
          "output_collection_id": "171cb768-de2b-4b81-8d5d-04fe50e01354"
        }
      },
      "outputs": [],
      "source": [
        "# Count of unique instruction steps per recipe\n",
        "instructions_per_recipe = recipe_dummy_df['instructions'].apply(lambda x: len(x.split(', ')))\n",
        "\n",
        "# Plotting the distribution of unique instruction steps per recipe\n",
        "plt.figure(figsize=(8, 6))\n",
        "plt.hist(instructions_per_recipe, bins=5, edgecolor='black')\n",
        "plt.title('Distribution of Unique Instruction Steps Per Recipe')\n",
        "plt.xlabel('Number of Unique Instruction Steps')\n",
        "plt.ylabel('Frequency')\n",
        "plt.show()"
      ]
    },
    {
      "cell_type": "code",
      "execution_count": null,
      "id": "5d05217f-41bd-4625-8d25-0e6387ec41dc",
      "metadata": {
        "ExecuteTime": {
          "end_time": "2023-10-20T00:23:40.455237+00:00",
          "start_time": "2023-10-20T00:23:40.295236+00:00"
        },
        "noteable": {
          "cell_type": "code",
          "output_collection_id": "accfa756-3af2-4c30-8cbd-f157a841d0a6"
        }
      },
      "outputs": [],
      "source": [
        "# Extract ingredients for recipes containing 'Pizza' in the title\n",
        "pizza_ingredients = recipe_dummy_df[recipe_dummy_df['title'].str.contains('Pizza', case=False)]['ingredients'].apply(lambda x: x.split(', ')).tolist()\n",
        "\n",
        "# Flatten the list of lists to a single list\n",
        "all_pizza_ingredients = [ingredient for sublist in pizza_ingredients for ingredient in sublist]\n",
        "\n",
        "# Count the occurrences of each ingredient in Pizza recipes\n",
        "common_pizza_ingredients = Counter(all_pizza_ingredients)\n",
        "\n",
        "common_pizza_ingredients"
      ]
    },
    {
      "cell_type": "code",
      "execution_count": null,
      "id": "b8a0bde7-2846-4892-9c1a-d567de7572fb",
      "metadata": {
        "ExecuteTime": {
          "end_time": "2023-10-20T00:42:48.402710+00:00",
          "start_time": "2023-10-20T00:42:48.244345+00:00"
        },
        "noteable": {
          "cell_type": "code",
          "output_collection_id": "776fb6e7-7c40-4ac3-b3da-5a7c5e2c0501"
        }
      },
      "outputs": [],
      "source": [
        "# Extract instruction steps for recipes containing 'Pizza' in the title\n",
        "pizza_instructions = recipe_dummy_df[recipe_dummy_df['title'].str.contains('Pizza', case=False)]['instructions'].apply(lambda x: x.split(', ')).tolist()\n",
        "\n",
        "# Flatten the list of lists to a single list\n",
        "all_pizza_instructions = [instruction for sublist in pizza_instructions for instruction in sublist]\n",
        "\n",
        "# Count the occurrences of each instruction step in Pizza recipes\n",
        "common_pizza_instructions = Counter(all_pizza_instructions)\n",
        "\n",
        "common_pizza_instructions"
      ]
    }
  ],
  "metadata": {
    "kernel_info": {
      "name": "python3"
    },
    "kernelspec": {
      "display_name": "Python 3.9",
      "identifier": "legacy",
      "language": "python",
      "language_version": "3.9",
      "name": "python3"
    },
    "language_info": {
      "codemirror_mode": {
        "name": "ipython",
        "version": 3
      },
      "file_extension": ".py",
      "mimetype": "text/x-python",
      "name": "python",
      "nbconvert_exporter": "python",
      "pygments_lexer": "ipython3",
      "version": "3.9.12"
    },
    "noteable-chatgpt": {
      "create_notebook": {
        "openai_conversation_id": "504b184c-d235-523c-bfef-c8ed46c530b4",
        "openai_ephemeral_user_id": "57cc986a-1325-5db4-a479-2cd8c6e46113",
        "openai_subdivision1_iso_code": "US-TN"
      }
    },
    "selected_hardware_size": "small"
  },
  "nbformat": 4,
  "nbformat_minor": 5
}
