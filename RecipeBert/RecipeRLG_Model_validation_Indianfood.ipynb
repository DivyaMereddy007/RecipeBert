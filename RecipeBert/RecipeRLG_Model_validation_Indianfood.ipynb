{
  "cells": [
    {
      "cell_type": "code",
      "execution_count": null,
      "id": "a8e0204c-33db-49f5-a5c6-4f455b2ebbde",
      "metadata": {
        "ExecuteTime": {
          "end_time": "2023-10-20T00:02:41.478182+00:00",
          "start_time": "2023-10-20T00:02:41.321598+00:00"
        },
        "jupyter": {
          "outputs_hidden": false,
          "source_hidden": false
        },
        "noteable": {
          "cell_type": "code",
          "output_collection_id": "5e3f649e-7aa4-4f11-9c9c-e9cf097b7827"
        }
      },
      "outputs": [],
      "source": []
    },
    {
      "cell_type": "code",
      "execution_count": 2,
      "id": "c30b59c1-f84c-4b11-b0fa-0170c67a9dc2",
      "metadata": {
        "ExecuteTime": {
          "end_time": "2023-10-20T00:02:24.255857+00:00",
          "start_time": "2023-10-20T00:01:40.580485+00:00"
        },
        "noteable": {
          "cell_type": "code",
          "output_collection_id": "09c2004a-4da2-4261-b2ce-89bd562b6b2c"
        }
      },
      "outputs": [],
      "source": [
        "import pandas as pd,numpy as np\n",
        "RecipeRLG=pd.read_csv('Data/full_dataset.csv')"
      ]
    },
    {
      "cell_type": "code",
      "execution_count": 3,
      "id": "4a8911bf-da21-487d-b0f6-abd9d137ccff",
      "metadata": {
        "ExecuteTime": {
          "end_time": "2023-10-20T00:02:27.724826+00:00",
          "start_time": "2023-10-20T00:02:27.379026+00:00"
        },
        "jupyter": {
          "outputs_hidden": false,
          "source_hidden": false
        },
        "noteable": {
          "cell_type": "code",
          "output_collection_id": "9b5694c4-bcad-4b23-bf8f-bb8d793c5549"
        }
      },
      "outputs": [
        {
          "data": {
            "text/html": [
              "<div>\n",
              "<style scoped>\n",
              "    .dataframe tbody tr th:only-of-type {\n",
              "        vertical-align: middle;\n",
              "    }\n",
              "\n",
              "    .dataframe tbody tr th {\n",
              "        vertical-align: top;\n",
              "    }\n",
              "\n",
              "    .dataframe thead th {\n",
              "        text-align: right;\n",
              "    }\n",
              "</style>\n",
              "<table border=\"1\" class=\"dataframe\">\n",
              "  <thead>\n",
              "    <tr style=\"text-align: right;\">\n",
              "      <th></th>\n",
              "      <th>Unnamed: 0</th>\n",
              "      <th>title</th>\n",
              "      <th>ingredients</th>\n",
              "      <th>directions</th>\n",
              "      <th>link</th>\n",
              "      <th>source</th>\n",
              "      <th>NER</th>\n",
              "    </tr>\n",
              "  </thead>\n",
              "  <tbody>\n",
              "    <tr>\n",
              "      <th>0</th>\n",
              "      <td>0</td>\n",
              "      <td>No-Bake Nut Cookies</td>\n",
              "      <td>[\"1 c. firmly packed brown sugar\", \"1/2 c. eva...</td>\n",
              "      <td>[\"In a heavy 2-quart saucepan, mix brown sugar...</td>\n",
              "      <td>www.cookbooks.com/Recipe-Details.aspx?id=44874</td>\n",
              "      <td>Gathered</td>\n",
              "      <td>[\"brown sugar\", \"milk\", \"vanilla\", \"nuts\", \"bu...</td>\n",
              "    </tr>\n",
              "    <tr>\n",
              "      <th>1</th>\n",
              "      <td>1</td>\n",
              "      <td>Jewell Ball'S Chicken</td>\n",
              "      <td>[\"1 small jar chipped beef, cut up\", \"4 boned ...</td>\n",
              "      <td>[\"Place chipped beef on bottom of baking dish....</td>\n",
              "      <td>www.cookbooks.com/Recipe-Details.aspx?id=699419</td>\n",
              "      <td>Gathered</td>\n",
              "      <td>[\"beef\", \"chicken breasts\", \"cream of mushroom...</td>\n",
              "    </tr>\n",
              "    <tr>\n",
              "      <th>2</th>\n",
              "      <td>2</td>\n",
              "      <td>Creamy Corn</td>\n",
              "      <td>[\"2 (16 oz.) pkg. frozen corn\", \"1 (8 oz.) pkg...</td>\n",
              "      <td>[\"In a slow cooker, combine all ingredients. C...</td>\n",
              "      <td>www.cookbooks.com/Recipe-Details.aspx?id=10570</td>\n",
              "      <td>Gathered</td>\n",
              "      <td>[\"frozen corn\", \"cream cheese\", \"butter\", \"gar...</td>\n",
              "    </tr>\n",
              "    <tr>\n",
              "      <th>3</th>\n",
              "      <td>3</td>\n",
              "      <td>Chicken Funny</td>\n",
              "      <td>[\"1 large whole chicken\", \"2 (10 1/2 oz.) cans...</td>\n",
              "      <td>[\"Boil and debone chicken.\", \"Put bite size pi...</td>\n",
              "      <td>www.cookbooks.com/Recipe-Details.aspx?id=897570</td>\n",
              "      <td>Gathered</td>\n",
              "      <td>[\"chicken\", \"chicken gravy\", \"cream of mushroo...</td>\n",
              "    </tr>\n",
              "    <tr>\n",
              "      <th>4</th>\n",
              "      <td>4</td>\n",
              "      <td>Reeses Cups(Candy)</td>\n",
              "      <td>[\"1 c. peanut butter\", \"3/4 c. graham cracker ...</td>\n",
              "      <td>[\"Combine first four ingredients and press in ...</td>\n",
              "      <td>www.cookbooks.com/Recipe-Details.aspx?id=659239</td>\n",
              "      <td>Gathered</td>\n",
              "      <td>[\"peanut butter\", \"graham cracker crumbs\", \"bu...</td>\n",
              "    </tr>\n",
              "  </tbody>\n",
              "</table>\n",
              "</div>"
            ],
            "text/plain": [
              "   Unnamed: 0                  title  \\\n",
              "0           0    No-Bake Nut Cookies   \n",
              "1           1  Jewell Ball'S Chicken   \n",
              "2           2            Creamy Corn   \n",
              "3           3          Chicken Funny   \n",
              "4           4   Reeses Cups(Candy)     \n",
              "\n",
              "                                         ingredients  \\\n",
              "0  [\"1 c. firmly packed brown sugar\", \"1/2 c. eva...   \n",
              "1  [\"1 small jar chipped beef, cut up\", \"4 boned ...   \n",
              "2  [\"2 (16 oz.) pkg. frozen corn\", \"1 (8 oz.) pkg...   \n",
              "3  [\"1 large whole chicken\", \"2 (10 1/2 oz.) cans...   \n",
              "4  [\"1 c. peanut butter\", \"3/4 c. graham cracker ...   \n",
              "\n",
              "                                          directions  \\\n",
              "0  [\"In a heavy 2-quart saucepan, mix brown sugar...   \n",
              "1  [\"Place chipped beef on bottom of baking dish....   \n",
              "2  [\"In a slow cooker, combine all ingredients. C...   \n",
              "3  [\"Boil and debone chicken.\", \"Put bite size pi...   \n",
              "4  [\"Combine first four ingredients and press in ...   \n",
              "\n",
              "                                              link    source  \\\n",
              "0   www.cookbooks.com/Recipe-Details.aspx?id=44874  Gathered   \n",
              "1  www.cookbooks.com/Recipe-Details.aspx?id=699419  Gathered   \n",
              "2   www.cookbooks.com/Recipe-Details.aspx?id=10570  Gathered   \n",
              "3  www.cookbooks.com/Recipe-Details.aspx?id=897570  Gathered   \n",
              "4  www.cookbooks.com/Recipe-Details.aspx?id=659239  Gathered   \n",
              "\n",
              "                                                 NER  \n",
              "0  [\"brown sugar\", \"milk\", \"vanilla\", \"nuts\", \"bu...  \n",
              "1  [\"beef\", \"chicken breasts\", \"cream of mushroom...  \n",
              "2  [\"frozen corn\", \"cream cheese\", \"butter\", \"gar...  \n",
              "3  [\"chicken\", \"chicken gravy\", \"cream of mushroo...  \n",
              "4  [\"peanut butter\", \"graham cracker crumbs\", \"bu...  "
            ]
          },
          "execution_count": 3,
          "metadata": {},
          "output_type": "execute_result"
        }
      ],
      "source": [
        "RecipeRLG.head()"
      ]
    },
    {
      "cell_type": "code",
      "execution_count": 4,
      "id": "1a2769d3",
      "metadata": {},
      "outputs": [
        {
          "data": {
            "text/plain": [
              "10051"
            ]
          },
          "execution_count": 4,
          "metadata": {},
          "output_type": "execute_result"
        }
      ],
      "source": [
        "import pandas as pd\n",
        "\n",
        "pd.set_option('display.max_rows', None)\n",
        "pd.set_option('display.max_columns', None)\n",
        "pd.set_option('display.width', None)\n",
        "pd.set_option('display.max_colwidth', None)\n",
        "\n",
        "import numpy as np\n",
        "\n",
        "#np.set_printoptions(threshold=np.inf, linewidth=np.inf)\n",
        "\n",
        "\n",
        "RecipeRLG[RecipeRLG['title'].str.contains('curry', case=False, na=False)]['title'].count()"
      ]
    },
    {
      "cell_type": "code",
      "execution_count": 6,
      "id": "65f66255-eac9-4787-97ef-c3781603649d",
      "metadata": {
        "ExecuteTime": {
          "end_time": "2023-10-20T00:05:11.845868+00:00",
          "start_time": "2023-10-20T00:05:11.652932+00:00"
        },
        "datalink": {
          "fd3b01b7-9942-48cf-8c14-33194bc57653": {
            "applied_filters": [],
            "dataframe_info": {
              "default_index_used": true,
              "orig_num_cols": 5,
              "orig_num_rows": 10,
              "orig_size_bytes": 480,
              "truncated_num_cols": 5,
              "truncated_num_rows": 10,
              "truncated_size_bytes": 480,
              "truncated_string_columns": []
            },
            "display_id": "fd3b01b7-9942-48cf-8c14-33194bc57653",
            "dx_settings": {
              "ALLOW_NOTEABLE_ATTRS": true,
              "COLUMN_SAMPLING_METHOD": "outer",
              "DB_LOCATION": ":memory:",
              "DEV_MODE": false,
              "DISPLAY_MAX_COLUMNS": 100,
              "DISPLAY_MAX_ROWS": 50000,
              "DISPLAY_MODE": "simple",
              "ENABLE_ASSIGNMENT": true,
              "ENABLE_DATALINK": true,
              "FLATTEN_COLUMN_VALUES": true,
              "FLATTEN_INDEX_VALUES": false,
              "GENERATE_DEX_METADATA": false,
              "HTML_TABLE_SCHEMA": false,
              "LOG_LEVEL": 30,
              "MAX_RENDER_SIZE_BYTES": 104857600,
              "MAX_STRING_LENGTH": 250,
              "NUM_PAST_SAMPLES_TRACKED": 3,
              "RANDOM_STATE": 12648430,
              "RESET_INDEX_VALUES": false,
              "ROW_SAMPLING_METHOD": "random",
              "SAMPLING_FACTOR": 0.1,
              "SAMPLING_METHOD": "random",
              "STRINGIFY_COLUMN_VALUES": true,
              "STRINGIFY_INDEX_VALUES": false
            },
            "sample_history": [],
            "sampling_time": "2023-10-20T00:05:11.683109",
            "user_variable_name": "recipe_dummy_df",
            "variable_name": "recipe_dummy_df"
          }
        },
        "noteable": {
          "cell_type": "code",
          "output_collection_id": "d51b897c-25a5-436b-911f-bfacedf8013a"
        }
      },
      "outputs": [
        {
          "name": "stdout",
          "output_type": "stream",
          "text": [
            "(63655,)\n"
          ]
        },
        {
          "data": {
            "text/plain": [
              "array([     32,      44,     114, ..., 2231096, 2231106, 2231112])"
            ]
          },
          "execution_count": 6,
          "metadata": {},
          "output_type": "execute_result"
        }
      ],
      "source": []
    },
    {
      "cell_type": "code",
      "execution_count": 7,
      "id": "b884c2f4",
      "metadata": {},
      "outputs": [
        {
          "name": "stdout",
          "output_type": "stream",
          "text": [
            "(500,)\n"
          ]
        }
      ],
      "source": []
    },
    {
      "cell_type": "code",
      "execution_count": 9,
      "id": "44437202",
      "metadata": {},
      "outputs": [
        {
          "data": {
            "text/html": [
              "<div>\n",
              "<style scoped>\n",
              "    .dataframe tbody tr th:only-of-type {\n",
              "        vertical-align: middle;\n",
              "    }\n",
              "\n",
              "    .dataframe tbody tr th {\n",
              "        vertical-align: top;\n",
              "    }\n",
              "\n",
              "    .dataframe thead th {\n",
              "        text-align: right;\n",
              "    }\n",
              "</style>\n",
              "<table border=\"1\" class=\"dataframe\">\n",
              "  <thead>\n",
              "    <tr style=\"text-align: right;\">\n",
              "      <th></th>\n",
              "      <th>Unnamed: 0</th>\n",
              "    </tr>\n",
              "  </thead>\n",
              "  <tbody>\n",
              "    <tr>\n",
              "      <th>count</th>\n",
              "      <td>6.365500e+04</td>\n",
              "    </tr>\n",
              "    <tr>\n",
              "      <th>mean</th>\n",
              "      <td>1.315648e+06</td>\n",
              "    </tr>\n",
              "    <tr>\n",
              "      <th>std</th>\n",
              "      <td>5.957916e+05</td>\n",
              "    </tr>\n",
              "    <tr>\n",
              "      <th>min</th>\n",
              "      <td>3.200000e+01</td>\n",
              "    </tr>\n",
              "    <tr>\n",
              "      <th>25%</th>\n",
              "      <td>9.334745e+05</td>\n",
              "    </tr>\n",
              "    <tr>\n",
              "      <th>50%</th>\n",
              "      <td>1.363569e+06</td>\n",
              "    </tr>\n",
              "    <tr>\n",
              "      <th>75%</th>\n",
              "      <td>1.817916e+06</td>\n",
              "    </tr>\n",
              "    <tr>\n",
              "      <th>max</th>\n",
              "      <td>2.231112e+06</td>\n",
              "    </tr>\n",
              "  </tbody>\n",
              "</table>\n",
              "</div>"
            ],
            "text/plain": [
              "         Unnamed: 0\n",
              "count  6.365500e+04\n",
              "mean   1.315648e+06\n",
              "std    5.957916e+05\n",
              "min    3.200000e+01\n",
              "25%    9.334745e+05\n",
              "50%    1.363569e+06\n",
              "75%    1.817916e+06\n",
              "max    2.231112e+06"
            ]
          },
          "execution_count": 9,
          "metadata": {},
          "output_type": "execute_result"
        }
      ],
      "source": [
        "# Basic statistics of numerical columns #india\n",
        "filtered_indian_data=RecipeRLG[RecipeRLG['title'].str.contains('paneer|masala|curry|pulusu|charu|Pizza|pasta', case=False, na=False)]\n",
        "\n",
        "filtered_indian_data.describe()"
      ]
    },
    {
      "cell_type": "code",
      "execution_count": 10,
      "id": "d6af0abd",
      "metadata": {},
      "outputs": [],
      "source": [
        "filtered_indian_data=filtered_indian_data[:500]"
      ]
    },
    {
      "cell_type": "code",
      "execution_count": 11,
      "id": "8713cbd4",
      "metadata": {},
      "outputs": [],
      "source": [
        "import pandas as pd\n",
        "\n",
        "filtered_indian_data=filtered_indian_data\n",
        "# Create key columns for both DataFrames to join on\n",
        "filtered_indian_data['key'] = 1\n",
        "\n",
        "# Perform the cross join\n",
        "cross_joined_df = pd.merge(filtered_indian_data, filtered_indian_data, on='key', suffixes=('_Recipe1', '_Recipe2'))\n",
        "\n",
        "# Drop the key columns used for joining\n",
        "cross_joined_df.drop('key', axis=1, inplace=True)\n",
        "\n",
        "print(cross_joined_df)\n",
        "cross_joined_df.to_csv('Data/filtered_indian_data_For_Manual_Similarity_edit_it.csv')"
      ]
    },
    {
      "cell_type": "code",
      "execution_count": null,
      "id": "46c81876",
      "metadata": {},
      "outputs": [],
      "source": [
        "filtered_indian_data.head()"
      ]
    },
    {
      "cell_type": "code",
      "execution_count": null,
      "id": "16439451",
      "metadata": {},
      "outputs": [],
      "source": [
        "import pandas as pd\n",
        "import numpy as np\n",
        "#data[data['title'].str.contains(['Creamy'])].index.values #india\n",
        "Filter_index = filtered_indian_data.index.values\n",
        "#RecipeRLG[RecipeRLG['title'].str.contains('paneer|masala|curry|pulusu|charu|Pizza|pasta', case=False, na=False)].index.values\n",
        "print(Filter_index.shape)\n",
        "Filter_index"
      ]
    },
    {
      "cell_type": "code",
      "execution_count": null,
      "id": "7c7298f4",
      "metadata": {},
      "outputs": [],
      "source": [
        "Filter_index=Filter_index#[:500]\n",
        "print(Filter_index.shape)"
      ]
    },
    {
      "cell_type": "code",
      "execution_count": null,
      "id": "44aed7b3-b07d-4da9-a6c5-ef2baed6fa99",
      "metadata": {
        "ExecuteTime": {
          "end_time": "2023-10-20T00:06:13.122246+00:00",
          "start_time": "2023-10-20T00:06:12.927968+00:00"
        },
        "datalink": {
          "c78b07b1-f455-4096-ad4f-8dfe9e10ae43": {
            "applied_filters": [],
            "dataframe_info": {
              "default_index_used": false,
              "orig_num_cols": 2,
              "orig_num_rows": 8,
              "orig_size_bytes": 192,
              "truncated_num_cols": 2,
              "truncated_num_rows": 8,
              "truncated_size_bytes": 192,
              "truncated_string_columns": []
            },
            "display_id": "c78b07b1-f455-4096-ad4f-8dfe9e10ae43",
            "dx_settings": {
              "ALLOW_NOTEABLE_ATTRS": true,
              "COLUMN_SAMPLING_METHOD": "outer",
              "DB_LOCATION": ":memory:",
              "DEV_MODE": false,
              "DISPLAY_MAX_COLUMNS": 100,
              "DISPLAY_MAX_ROWS": 50000,
              "DISPLAY_MODE": "simple",
              "ENABLE_ASSIGNMENT": true,
              "ENABLE_DATALINK": true,
              "FLATTEN_COLUMN_VALUES": true,
              "FLATTEN_INDEX_VALUES": false,
              "GENERATE_DEX_METADATA": false,
              "HTML_TABLE_SCHEMA": false,
              "LOG_LEVEL": 30,
              "MAX_RENDER_SIZE_BYTES": 104857600,
              "MAX_STRING_LENGTH": 250,
              "NUM_PAST_SAMPLES_TRACKED": 3,
              "RANDOM_STATE": 12648430,
              "RESET_INDEX_VALUES": false,
              "ROW_SAMPLING_METHOD": "random",
              "SAMPLING_FACTOR": 0.1,
              "SAMPLING_METHOD": "random",
              "STRINGIFY_COLUMN_VALUES": true,
              "STRINGIFY_INDEX_VALUES": false
            },
            "sample_history": [],
            "sampling_time": "2023-10-20T00:06:12.961286",
            "user_variable_name": null,
            "variable_name": "unk_dataframe_ed097bb4df69453daa8d85c74b264c05"
          }
        },
        "noteable": {
          "cell_type": "code",
          "output_collection_id": "2aa2dd38-0ad0-44eb-b994-ce6c9de83ec6"
        }
      },
      "outputs": [],
      "source": [
        "import pickle\n",
        "import pandas as pd\n",
        "sentence_vecs=pd.read_pickle(\"Data/fulldataset_sentence_vecs_v1.pkl\")\n",
        "from sklearn.metrics.pairwise import cosine_similarity\n"
      ]
    },
    {
      "cell_type": "code",
      "execution_count": null,
      "metadata": {},
      "outputs": [
        {
          "data": {
            "text/plain": [
              "(2231142, 768)"
            ]
          },
          "execution_count": 8,
          "metadata": {},
          "output_type": "execute_result"
        }
      ],
      "source": [
        "sentence_vecs.shape"
      ]
    },
    {
      "cell_type": "code",
      "execution_count": null,
      "id": "89d154a4",
      "metadata": {},
      "outputs": [
        {
          "data": {
            "text/plain": [
              "array([[0.9999998 , 0.94636023, 0.8176797 , ..., 0.86100644, 0.86727095,\n",
              "        0.80631524],\n",
              "       [0.94636023, 0.9999999 , 0.85943156, ..., 0.90272737, 0.9202682 ,\n",
              "        0.84592915],\n",
              "       [0.8176797 , 0.85943156, 0.9999998 , ..., 0.9239007 , 0.90464437,\n",
              "        0.9184156 ],\n",
              "       ...,\n",
              "       [0.86100644, 0.90272737, 0.9239007 , ..., 1.0000001 , 0.92554   ,\n",
              "        0.9078924 ],\n",
              "       [0.86727095, 0.9202682 , 0.90464437, ..., 0.92554   , 1.0000002 ,\n",
              "        0.90793556],\n",
              "       [0.80631524, 0.84592915, 0.9184156 , ..., 0.9078924 , 0.90793556,\n",
              "        0.9999999 ]], dtype=float32)"
            ]
          },
          "execution_count": 9,
          "metadata": {},
          "output_type": "execute_result"
        }
      ],
      "source": [
        "predicted_similarity_matrix_filter = cosine_similarity(sentence_vecs[Filter_index, :])\n",
        "\n",
        "predicted_similarity_matrix_filter"
      ]
    },
    {
      "cell_type": "code",
      "execution_count": null,
      "id": "159a658e",
      "metadata": {},
      "outputs": [],
      "source": [
        "filtered_indian_data.to_csv('Data/filtered_indian_data_For_Manual_Similarity_v2.csv')"
      ]
    },
    {
      "cell_type": "code",
      "execution_count": null,
      "id": "947ba3ea",
      "metadata": {},
      "outputs": [
        {
          "data": {
            "text/html": [
              "<div>\n",
              "<style scoped>\n",
              "    .dataframe tbody tr th:only-of-type {\n",
              "        vertical-align: middle;\n",
              "    }\n",
              "\n",
              "    .dataframe tbody tr th {\n",
              "        vertical-align: top;\n",
              "    }\n",
              "\n",
              "    .dataframe thead th {\n",
              "        text-align: right;\n",
              "    }\n",
              "</style>\n",
              "<table border=\"1\" class=\"dataframe\">\n",
              "  <thead>\n",
              "    <tr style=\"text-align: right;\">\n",
              "      <th></th>\n",
              "      <th>Unnamed: 0</th>\n",
              "    </tr>\n",
              "  </thead>\n",
              "  <tbody>\n",
              "    <tr>\n",
              "      <th>count</th>\n",
              "      <td>6.683600e+04</td>\n",
              "    </tr>\n",
              "    <tr>\n",
              "      <th>mean</th>\n",
              "      <td>1.314983e+06</td>\n",
              "    </tr>\n",
              "    <tr>\n",
              "      <th>std</th>\n",
              "      <td>5.934072e+05</td>\n",
              "    </tr>\n",
              "    <tr>\n",
              "      <th>min</th>\n",
              "      <td>3.200000e+01</td>\n",
              "    </tr>\n",
              "    <tr>\n",
              "      <th>25%</th>\n",
              "      <td>9.365755e+05</td>\n",
              "    </tr>\n",
              "    <tr>\n",
              "      <th>50%</th>\n",
              "      <td>1.360816e+06</td>\n",
              "    </tr>\n",
              "    <tr>\n",
              "      <th>75%</th>\n",
              "      <td>1.814733e+06</td>\n",
              "    </tr>\n",
              "    <tr>\n",
              "      <th>max</th>\n",
              "      <td>2.231112e+06</td>\n",
              "    </tr>\n",
              "  </tbody>\n",
              "</table>\n",
              "</div>"
            ],
            "text/plain": [
              "         Unnamed: 0\n",
              "count  6.683600e+04\n",
              "mean   1.314983e+06\n",
              "std    5.934072e+05\n",
              "min    3.200000e+01\n",
              "25%    9.365755e+05\n",
              "50%    1.360816e+06\n",
              "75%    1.814733e+06\n",
              "max    2.231112e+06"
            ]
          },
          "execution_count": 11,
          "metadata": {},
          "output_type": "execute_result"
        }
      ],
      "source": [
        "#create dataset for manual data collection\n",
        "filtered_indian_data.describe()"
      ]
    },
    {
      "cell_type": "code",
      "execution_count": null,
      "id": "c23ea350",
      "metadata": {},
      "outputs": [],
      "source": []
    },
    {
      "cell_type": "code",
      "execution_count": null,
      "id": "ad708d85",
      "metadata": {},
      "outputs": [],
      "source": []
    }
  ],
  "metadata": {
    "kernel_info": {
      "name": "python3"
    },
    "kernelspec": {
      "display_name": "Python 3.9",
      "identifier": "legacy",
      "language": "python",
      "language_version": "3.9",
      "name": "python3"
    },
    "language_info": {
      "codemirror_mode": {
        "name": "ipython",
        "version": 3
      },
      "file_extension": ".py",
      "mimetype": "text/x-python",
      "name": "python",
      "nbconvert_exporter": "python",
      "pygments_lexer": "ipython3",
      "version": "3.9.12"
    },
    "noteable-chatgpt": {
      "create_notebook": {
        "openai_conversation_id": "504b184c-d235-523c-bfef-c8ed46c530b4",
        "openai_ephemeral_user_id": "57cc986a-1325-5db4-a479-2cd8c6e46113",
        "openai_subdivision1_iso_code": "US-TN"
      }
    },
    "selected_hardware_size": "small"
  },
  "nbformat": 4,
  "nbformat_minor": 5
}
