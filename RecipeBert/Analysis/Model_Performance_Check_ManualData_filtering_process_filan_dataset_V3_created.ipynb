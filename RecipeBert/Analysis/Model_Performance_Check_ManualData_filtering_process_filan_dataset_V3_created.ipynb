{
  "cells": [
    {
      "cell_type": "code",
      "execution_count": 8,
      "id": "c30b59c1-f84c-4b11-b0fa-0170c67a9dc2",
      "metadata": {
        "ExecuteTime": {
          "end_time": "2023-10-20T00:02:24.255857+00:00",
          "start_time": "2023-10-20T00:01:40.580485+00:00"
        },
        "noteable": {
          "cell_type": "code",
          "output_collection_id": "09c2004a-4da2-4261-b2ce-89bd562b6b2c"
        }
      },
      "outputs": [],
      "source": [
        "import pandas as pd,numpy as np\n",
        "data=pd.read_csv('/Users/divyamereddy/Documents/PHD/projects/Home Automation/Food_Suggestions_System/RecipeBert/Data/filtered_indian_data_For_Manual_Similarity_edit_it.csv')"
      ]
    },
    {
      "cell_type": "markdown",
      "id": "825c2cc3",
      "metadata": {},
      "source": [
        "# Compare model similarity score with manual scores provided by humans\n",
        "# We are just analyzing few records. V3 version is final manual inputs added file.\n",
        "# model similarity: ?"
      ]
    },
    {
      "cell_type": "code",
      "execution_count": 31,
      "id": "c0beae8d",
      "metadata": {},
      "outputs": [
        {
          "data": {
            "text/html": [
              "<div>\n",
              "<style scoped>\n",
              "    .dataframe tbody tr th:only-of-type {\n",
              "        vertical-align: middle;\n",
              "    }\n",
              "\n",
              "    .dataframe tbody tr th {\n",
              "        vertical-align: top;\n",
              "    }\n",
              "\n",
              "    .dataframe thead th {\n",
              "        text-align: right;\n",
              "    }\n",
              "</style>\n",
              "<table border=\"1\" class=\"dataframe\">\n",
              "  <thead>\n",
              "    <tr style=\"text-align: right;\">\n",
              "      <th></th>\n",
              "      <th>Unnamed: 0.1</th>\n",
              "      <th>Unnamed: 0</th>\n",
              "      <th>title_Recipe1</th>\n",
              "      <th>ingredients</th>\n",
              "      <th>directions</th>\n",
              "      <th>link</th>\n",
              "      <th>source</th>\n",
              "      <th>NER</th>\n",
              "      <th>title_Recipe2</th>\n",
              "    </tr>\n",
              "  </thead>\n",
              "  <tbody>\n",
              "    <tr>\n",
              "      <th>7000</th>\n",
              "      <td>7000</td>\n",
              "      <td>735</td>\n",
              "      <td>Pasta Salad</td>\n",
              "      <td>[\"1/4 lb. Provolone cheese\", \"1/4 lb. salami\",...</td>\n",
              "      <td>[\"Dice and mix all ingredients together.\"]</td>\n",
              "      <td>www.cookbooks.com/Recipe-Details.aspx?id=1077131</td>\n",
              "      <td>Gathered</td>\n",
              "      <td>[\"Provolone cheese\", \"salami\", \"pepperoni\", \"p...</td>\n",
              "      <td>Cherry Pizza</td>\n",
              "    </tr>\n",
              "    <tr>\n",
              "      <th>7001</th>\n",
              "      <td>7001</td>\n",
              "      <td>735</td>\n",
              "      <td>Pasta Salad</td>\n",
              "      <td>[\"1/4 lb. Provolone cheese\", \"1/4 lb. salami\",...</td>\n",
              "      <td>[\"Dice and mix all ingredients together.\"]</td>\n",
              "      <td>www.cookbooks.com/Recipe-Details.aspx?id=1077131</td>\n",
              "      <td>Gathered</td>\n",
              "      <td>[\"Provolone cheese\", \"salami\", \"pepperoni\", \"p...</td>\n",
              "      <td>Fruit Pizza</td>\n",
              "    </tr>\n",
              "    <tr>\n",
              "      <th>7002</th>\n",
              "      <td>7002</td>\n",
              "      <td>735</td>\n",
              "      <td>Pasta Salad</td>\n",
              "      <td>[\"1/4 lb. Provolone cheese\", \"1/4 lb. salami\",...</td>\n",
              "      <td>[\"Dice and mix all ingredients together.\"]</td>\n",
              "      <td>www.cookbooks.com/Recipe-Details.aspx?id=1077131</td>\n",
              "      <td>Gathered</td>\n",
              "      <td>[\"Provolone cheese\", \"salami\", \"pepperoni\", \"p...</td>\n",
              "      <td>Pasta Chicken Salad(268 Calories Per Serving)</td>\n",
              "    </tr>\n",
              "    <tr>\n",
              "      <th>7003</th>\n",
              "      <td>7003</td>\n",
              "      <td>735</td>\n",
              "      <td>Pasta Salad</td>\n",
              "      <td>[\"1/4 lb. Provolone cheese\", \"1/4 lb. salami\",...</td>\n",
              "      <td>[\"Dice and mix all ingredients together.\"]</td>\n",
              "      <td>www.cookbooks.com/Recipe-Details.aspx?id=1077131</td>\n",
              "      <td>Gathered</td>\n",
              "      <td>[\"Provolone cheese\", \"salami\", \"pepperoni\", \"p...</td>\n",
              "      <td>Pizza Casserole</td>\n",
              "    </tr>\n",
              "    <tr>\n",
              "      <th>7004</th>\n",
              "      <td>7004</td>\n",
              "      <td>735</td>\n",
              "      <td>Pasta Salad</td>\n",
              "      <td>[\"1/4 lb. Provolone cheese\", \"1/4 lb. salami\",...</td>\n",
              "      <td>[\"Dice and mix all ingredients together.\"]</td>\n",
              "      <td>www.cookbooks.com/Recipe-Details.aspx?id=1077131</td>\n",
              "      <td>Gathered</td>\n",
              "      <td>[\"Provolone cheese\", \"salami\", \"pepperoni\", \"p...</td>\n",
              "      <td>Fruit Pizza</td>\n",
              "    </tr>\n",
              "  </tbody>\n",
              "</table>\n",
              "</div>"
            ],
            "text/plain": [
              "      Unnamed: 0.1  Unnamed: 0 title_Recipe1  \\\n",
              "7000          7000         735   Pasta Salad   \n",
              "7001          7001         735   Pasta Salad   \n",
              "7002          7002         735   Pasta Salad   \n",
              "7003          7003         735   Pasta Salad   \n",
              "7004          7004         735   Pasta Salad   \n",
              "\n",
              "                                            ingredients  \\\n",
              "7000  [\"1/4 lb. Provolone cheese\", \"1/4 lb. salami\",...   \n",
              "7001  [\"1/4 lb. Provolone cheese\", \"1/4 lb. salami\",...   \n",
              "7002  [\"1/4 lb. Provolone cheese\", \"1/4 lb. salami\",...   \n",
              "7003  [\"1/4 lb. Provolone cheese\", \"1/4 lb. salami\",...   \n",
              "7004  [\"1/4 lb. Provolone cheese\", \"1/4 lb. salami\",...   \n",
              "\n",
              "                                      directions  \\\n",
              "7000  [\"Dice and mix all ingredients together.\"]   \n",
              "7001  [\"Dice and mix all ingredients together.\"]   \n",
              "7002  [\"Dice and mix all ingredients together.\"]   \n",
              "7003  [\"Dice and mix all ingredients together.\"]   \n",
              "7004  [\"Dice and mix all ingredients together.\"]   \n",
              "\n",
              "                                                  link    source  \\\n",
              "7000  www.cookbooks.com/Recipe-Details.aspx?id=1077131  Gathered   \n",
              "7001  www.cookbooks.com/Recipe-Details.aspx?id=1077131  Gathered   \n",
              "7002  www.cookbooks.com/Recipe-Details.aspx?id=1077131  Gathered   \n",
              "7003  www.cookbooks.com/Recipe-Details.aspx?id=1077131  Gathered   \n",
              "7004  www.cookbooks.com/Recipe-Details.aspx?id=1077131  Gathered   \n",
              "\n",
              "                                                    NER  \\\n",
              "7000  [\"Provolone cheese\", \"salami\", \"pepperoni\", \"p...   \n",
              "7001  [\"Provolone cheese\", \"salami\", \"pepperoni\", \"p...   \n",
              "7002  [\"Provolone cheese\", \"salami\", \"pepperoni\", \"p...   \n",
              "7003  [\"Provolone cheese\", \"salami\", \"pepperoni\", \"p...   \n",
              "7004  [\"Provolone cheese\", \"salami\", \"pepperoni\", \"p...   \n",
              "\n",
              "                                        title_Recipe2  \n",
              "7000                                     Cherry Pizza  \n",
              "7001                                      Fruit Pizza  \n",
              "7002  Pasta Chicken Salad(268 Calories Per Serving)    \n",
              "7003                                  Pizza Casserole  \n",
              "7004                                      Fruit Pizza  "
            ]
          },
          "execution_count": 31,
          "metadata": {},
          "output_type": "execute_result"
        }
      ],
      "source": [
        "data[data['title_Recipe1']=='Pasta Salad'].head()"
      ]
    },
    {
      "cell_type": "code",
      "execution_count": 10,
      "id": "70f87e0c",
      "metadata": {},
      "outputs": [
        {
          "data": {
            "text/plain": [
              "(250000, 9)"
            ]
          },
          "execution_count": 10,
          "metadata": {},
          "output_type": "execute_result"
        }
      ],
      "source": [
        "data.shape"
      ]
    },
    {
      "cell_type": "code",
      "execution_count": 11,
      "id": "c86a9d05",
      "metadata": {},
      "outputs": [],
      "source": [
        "data2=data[['title_Recipe1','title_Recipe2']].drop_duplicates()"
      ]
    },
    {
      "cell_type": "code",
      "execution_count": 12,
      "id": "ad708d85",
      "metadata": {},
      "outputs": [
        {
          "data": {
            "text/plain": [
              "(93025, 2)"
            ]
          },
          "execution_count": 12,
          "metadata": {},
          "output_type": "execute_result"
        }
      ],
      "source": [
        "data2.shape"
      ]
    },
    {
      "cell_type": "code",
      "execution_count": null,
      "id": "76a2d1c5",
      "metadata": {},
      "outputs": [],
      "source": []
    },
    {
      "cell_type": "code",
      "execution_count": 13,
      "id": "5e39aa20",
      "metadata": {},
      "outputs": [],
      "source": [
        "data2.to_csv('/Users/divyamereddy/Documents/PHD/projects/Home Automation/Food_Suggestions_System/RecipeBert/Data/filtered_indian_data_For_Manual_Similarity_edit_it_V2_remove_duplicates_9300.csv')"
      ]
    },
    {
      "cell_type": "code",
      "execution_count": 20,
      "id": "f307420f",
      "metadata": {},
      "outputs": [],
      "source": [
        "data2=pd.read_csv('/Users/divyamereddy/Documents/PHD/projects/Home Automation/Food_Suggestions_System/RecipeBert/Data/filtered_indian_data_For_Manual_Similarity_edit_it_V2_remove_duplicates_9300.csv')"
      ]
    },
    {
      "cell_type": "code",
      "execution_count": 21,
      "id": "cea0d49d",
      "metadata": {},
      "outputs": [
        {
          "data": {
            "text/html": [
              "<div>\n",
              "<style scoped>\n",
              "    .dataframe tbody tr th:only-of-type {\n",
              "        vertical-align: middle;\n",
              "    }\n",
              "\n",
              "    .dataframe tbody tr th {\n",
              "        vertical-align: top;\n",
              "    }\n",
              "\n",
              "    .dataframe thead th {\n",
              "        text-align: right;\n",
              "    }\n",
              "</style>\n",
              "<table border=\"1\" class=\"dataframe\">\n",
              "  <thead>\n",
              "    <tr style=\"text-align: right;\">\n",
              "      <th></th>\n",
              "      <th>Unnamed: 0</th>\n",
              "      <th>title_Recipe1</th>\n",
              "      <th>title_Recipe2</th>\n",
              "      <th>Similarity</th>\n",
              "    </tr>\n",
              "  </thead>\n",
              "  <tbody>\n",
              "    <tr>\n",
              "      <th>0</th>\n",
              "      <td>0</td>\n",
              "      <td>Cherry Pizza</td>\n",
              "      <td>Cherry Pizza</td>\n",
              "      <td>1.0</td>\n",
              "    </tr>\n",
              "    <tr>\n",
              "      <th>1</th>\n",
              "      <td>1</td>\n",
              "      <td>Cherry Pizza</td>\n",
              "      <td>Fruit Pizza</td>\n",
              "      <td>0.9</td>\n",
              "    </tr>\n",
              "    <tr>\n",
              "      <th>2</th>\n",
              "      <td>2</td>\n",
              "      <td>Cherry Pizza</td>\n",
              "      <td>Pasta Chicken Salad(268 Calories Per Serving)</td>\n",
              "      <td>0.3</td>\n",
              "    </tr>\n",
              "    <tr>\n",
              "      <th>3</th>\n",
              "      <td>3</td>\n",
              "      <td>Cherry Pizza</td>\n",
              "      <td>Pizza Casserole</td>\n",
              "      <td>0.6</td>\n",
              "    </tr>\n",
              "    <tr>\n",
              "      <th>4</th>\n",
              "      <td>6</td>\n",
              "      <td>Cherry Pizza</td>\n",
              "      <td>Brown Rice Pizza(Light)</td>\n",
              "      <td>0.7</td>\n",
              "    </tr>\n",
              "  </tbody>\n",
              "</table>\n",
              "</div>"
            ],
            "text/plain": [
              "   Unnamed: 0 title_Recipe1                                    title_Recipe2  \\\n",
              "0           0  Cherry Pizza                                     Cherry Pizza   \n",
              "1           1  Cherry Pizza                                      Fruit Pizza   \n",
              "2           2  Cherry Pizza  Pasta Chicken Salad(268 Calories Per Serving)     \n",
              "3           3  Cherry Pizza                                  Pizza Casserole   \n",
              "4           6  Cherry Pizza                        Brown Rice Pizza(Light)     \n",
              "\n",
              "   Similarity  \n",
              "0         1.0  \n",
              "1         0.9  \n",
              "2         0.3  \n",
              "3         0.6  \n",
              "4         0.7  "
            ]
          },
          "execution_count": 21,
          "metadata": {},
          "output_type": "execute_result"
        }
      ],
      "source": [
        "data2.head()"
      ]
    },
    {
      "cell_type": "code",
      "execution_count": 25,
      "id": "357825ab",
      "metadata": {},
      "outputs": [
        {
          "data": {
            "text/plain": [
              "(93025, 5)"
            ]
          },
          "execution_count": 25,
          "metadata": {},
          "output_type": "execute_result"
        }
      ],
      "source": [
        "data2.shape"
      ]
    },
    {
      "cell_type": "markdown",
      "id": "dfec16d3",
      "metadata": {},
      "source": [
        "Remove Duplicates RecipeA, RecipeB is duplicate of RecipeB, Recipe A. I should have taken only upper or down triangle of matric"
      ]
    },
    {
      "cell_type": "code",
      "execution_count": 22,
      "id": "fee905d0",
      "metadata": {},
      "outputs": [
        {
          "name": "stdout",
          "output_type": "stream",
          "text": [
            "(52833, 4)\n"
          ]
        }
      ],
      "source": [
        "import pandas as pd\n",
        "\n",
        "\n",
        "data3 = data2\n",
        "\n",
        "# Create a new column with sorted tuple\n",
        "data3['sorted_tuple'] = data3.apply(lambda row: tuple(sorted([row['title_Recipe1'], row['title_Recipe2']])), axis=1)\n",
        "\n",
        "# Drop duplicates based on the sorted tuple\n",
        "data3 = data3.drop_duplicates(subset=['sorted_tuple']).drop('sorted_tuple', axis=1)\n",
        "\n",
        "print(data3.shape)\n"
      ]
    },
    {
      "cell_type": "code",
      "execution_count": 23,
      "id": "886640ad",
      "metadata": {},
      "outputs": [
        {
          "data": {
            "text/html": [
              "<div>\n",
              "<style scoped>\n",
              "    .dataframe tbody tr th:only-of-type {\n",
              "        vertical-align: middle;\n",
              "    }\n",
              "\n",
              "    .dataframe tbody tr th {\n",
              "        vertical-align: top;\n",
              "    }\n",
              "\n",
              "    .dataframe thead th {\n",
              "        text-align: right;\n",
              "    }\n",
              "</style>\n",
              "<table border=\"1\" class=\"dataframe\">\n",
              "  <thead>\n",
              "    <tr style=\"text-align: right;\">\n",
              "      <th></th>\n",
              "      <th>Unnamed: 0</th>\n",
              "      <th>title_Recipe1</th>\n",
              "      <th>title_Recipe2</th>\n",
              "      <th>Similarity</th>\n",
              "    </tr>\n",
              "  </thead>\n",
              "  <tbody>\n",
              "    <tr>\n",
              "      <th>0</th>\n",
              "      <td>0</td>\n",
              "      <td>Cherry Pizza</td>\n",
              "      <td>Cherry Pizza</td>\n",
              "      <td>1.0</td>\n",
              "    </tr>\n",
              "    <tr>\n",
              "      <th>1</th>\n",
              "      <td>1</td>\n",
              "      <td>Cherry Pizza</td>\n",
              "      <td>Fruit Pizza</td>\n",
              "      <td>0.9</td>\n",
              "    </tr>\n",
              "    <tr>\n",
              "      <th>2</th>\n",
              "      <td>2</td>\n",
              "      <td>Cherry Pizza</td>\n",
              "      <td>Pasta Chicken Salad(268 Calories Per Serving)</td>\n",
              "      <td>0.3</td>\n",
              "    </tr>\n",
              "    <tr>\n",
              "      <th>3</th>\n",
              "      <td>3</td>\n",
              "      <td>Cherry Pizza</td>\n",
              "      <td>Pizza Casserole</td>\n",
              "      <td>0.6</td>\n",
              "    </tr>\n",
              "    <tr>\n",
              "      <th>4</th>\n",
              "      <td>6</td>\n",
              "      <td>Cherry Pizza</td>\n",
              "      <td>Brown Rice Pizza(Light)</td>\n",
              "      <td>0.7</td>\n",
              "    </tr>\n",
              "  </tbody>\n",
              "</table>\n",
              "</div>"
            ],
            "text/plain": [
              "   Unnamed: 0 title_Recipe1                                    title_Recipe2  \\\n",
              "0           0  Cherry Pizza                                     Cherry Pizza   \n",
              "1           1  Cherry Pizza                                      Fruit Pizza   \n",
              "2           2  Cherry Pizza  Pasta Chicken Salad(268 Calories Per Serving)     \n",
              "3           3  Cherry Pizza                                  Pizza Casserole   \n",
              "4           6  Cherry Pizza                        Brown Rice Pizza(Light)     \n",
              "\n",
              "   Similarity  \n",
              "0         1.0  \n",
              "1         0.9  \n",
              "2         0.3  \n",
              "3         0.6  \n",
              "4         0.7  "
            ]
          },
          "execution_count": 23,
          "metadata": {},
          "output_type": "execute_result"
        }
      ],
      "source": [
        "data3.head()"
      ]
    },
    {
      "cell_type": "code",
      "execution_count": 26,
      "id": "58e16620",
      "metadata": {},
      "outputs": [],
      "source": [
        "data3.to_csv('/Users/divyamereddy/Documents/PHD/projects/Home Automation/Food_Suggestions_System/RecipeBert/Data/filtered_indian_data_For_Manual_Similarity_edit_it_V3_remove_duplicates_52000.csv')"
      ]
    },
    {
      "cell_type": "code",
      "execution_count": null,
      "id": "bf2228b3",
      "metadata": {},
      "outputs": [],
      "source": []
    }
  ],
  "metadata": {
    "kernel_info": {
      "name": "python3"
    },
    "kernelspec": {
      "display_name": "Python 3.9",
      "identifier": "legacy",
      "language": "python",
      "language_version": "3.9",
      "name": "python3"
    },
    "language_info": {
      "codemirror_mode": {
        "name": "ipython",
        "version": 3
      },
      "file_extension": ".py",
      "mimetype": "text/x-python",
      "name": "python",
      "nbconvert_exporter": "python",
      "pygments_lexer": "ipython3",
      "version": "3.9.12"
    },
    "noteable-chatgpt": {
      "create_notebook": {
        "openai_conversation_id": "504b184c-d235-523c-bfef-c8ed46c530b4",
        "openai_ephemeral_user_id": "57cc986a-1325-5db4-a479-2cd8c6e46113",
        "openai_subdivision1_iso_code": "US-TN"
      }
    },
    "selected_hardware_size": "small"
  },
  "nbformat": 4,
  "nbformat_minor": 5
}
