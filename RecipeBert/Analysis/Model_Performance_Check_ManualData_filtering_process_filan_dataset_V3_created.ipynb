{
  "cells": [
    {
      "cell_type": "code",
      "execution_count": null,
      "id": "c30b59c1-f84c-4b11-b0fa-0170c67a9dc2",
      "metadata": {
        "ExecuteTime": {
          "end_time": "2023-10-20T00:02:24.255857+00:00",
          "start_time": "2023-10-20T00:01:40.580485+00:00"
        },
        "noteable": {
          "cell_type": "code",
          "output_collection_id": "09c2004a-4da2-4261-b2ce-89bd562b6b2c"
        }
      },
      "outputs": [],
      "source": [
        "import pandas as pd,numpy as np\n",
        "data=pd.read_csv('/Users/divyamereddy/Documents/PHD/projects/Home Automation/Food_Suggestions_System/RecipeBert/Data/filtered_indian_data_For_Manual_Similarity_edit_it.csv')"
      ]
    },
    {
      "cell_type": "markdown",
      "id": "825c2cc3",
      "metadata": {},
      "source": [
        "# Compare model similarity score with manual scores provided by humans\n",
        "# We are just analyzing few records. V3 version is final manual inputs added file.\n",
        "# model similarity: ?"
      ]
    },
    {
      "cell_type": "code",
      "execution_count": null,
      "id": "c0beae8d",
      "metadata": {},
      "outputs": [],
      "source": [
        "data[data['title_Recipe1']=='Pasta Salad'].head()"
      ]
    },
    {
      "cell_type": "code",
      "execution_count": null,
      "id": "70f87e0c",
      "metadata": {},
      "outputs": [],
      "source": [
        "data.shape"
      ]
    },
    {
      "cell_type": "code",
      "execution_count": null,
      "id": "c86a9d05",
      "metadata": {},
      "outputs": [],
      "source": [
        "data2=data[['title_Recipe1','title_Recipe2']].drop_duplicates()"
      ]
    },
    {
      "cell_type": "code",
      "execution_count": null,
      "id": "ad708d85",
      "metadata": {},
      "outputs": [],
      "source": [
        "data2.shape"
      ]
    },
    {
      "cell_type": "code",
      "execution_count": null,
      "id": "76a2d1c5",
      "metadata": {},
      "outputs": [],
      "source": []
    },
    {
      "cell_type": "code",
      "execution_count": null,
      "id": "5e39aa20",
      "metadata": {},
      "outputs": [],
      "source": [
        "data2.to_csv('/Users/divyamereddy/Documents/PHD/projects/Home Automation/Food_Suggestions_System/RecipeBert/Data/filtered_indian_data_For_Manual_Similarity_edit_it_V2_remove_duplicates_9300.csv')"
      ]
    },
    {
      "cell_type": "code",
      "execution_count": null,
      "id": "f307420f",
      "metadata": {},
      "outputs": [],
      "source": [
        "data2=pd.read_csv('/Users/divyamereddy/Documents/PHD/projects/Home Automation/Food_Suggestions_System/RecipeBert/Data/filtered_indian_data_For_Manual_Similarity_edit_it_V2_remove_duplicates_9300.csv')"
      ]
    },
    {
      "cell_type": "code",
      "execution_count": null,
      "id": "cea0d49d",
      "metadata": {},
      "outputs": [],
      "source": [
        "data2.head()"
      ]
    },
    {
      "cell_type": "code",
      "execution_count": null,
      "id": "357825ab",
      "metadata": {},
      "outputs": [],
      "source": [
        "data2.shape"
      ]
    },
    {
      "cell_type": "markdown",
      "id": "dfec16d3",
      "metadata": {},
      "source": [
        "Remove Duplicates RecipeA, RecipeB is duplicate of RecipeB, Recipe A. I should have taken only upper or down triangle of matric"
      ]
    },
    {
      "cell_type": "code",
      "execution_count": null,
      "id": "fee905d0",
      "metadata": {},
      "outputs": [],
      "source": [
        "import pandas as pd\n",
        "\n",
        "\n",
        "data3 = data2\n",
        "\n",
        "# Create a new column with sorted tuple\n",
        "data3['sorted_tuple'] = data3.apply(lambda row: tuple(sorted([row['title_Recipe1'], row['title_Recipe2']])), axis=1)\n",
        "\n",
        "# Drop duplicates based on the sorted tuple\n",
        "data3 = data3.drop_duplicates(subset=['sorted_tuple']).drop('sorted_tuple', axis=1)\n",
        "\n",
        "print(data3.shape)\n"
      ]
    },
    {
      "cell_type": "code",
      "execution_count": null,
      "id": "886640ad",
      "metadata": {},
      "outputs": [],
      "source": [
        "data3.head()"
      ]
    },
    {
      "cell_type": "code",
      "execution_count": null,
      "id": "58e16620",
      "metadata": {},
      "outputs": [],
      "source": [
        "data3.to_csv('/Users/divyamereddy/Documents/PHD/projects/Home Automation/Food_Suggestions_System/RecipeBert/Data/filtered_indian_data_For_Manual_Similarity_edit_it_V3_remove_duplicates_52000.csv')"
      ]
    },
    {
      "cell_type": "code",
      "execution_count": null,
      "id": "bf2228b3",
      "metadata": {},
      "outputs": [],
      "source": []
    }
  ],
  "metadata": {
    "kernel_info": {
      "name": "python3"
    },
    "kernelspec": {
      "display_name": "Python 3.9",
      "identifier": "legacy",
      "language": "python",
      "language_version": "3.9",
      "name": "python3"
    },
    "language_info": {
      "codemirror_mode": {
        "name": "ipython",
        "version": 3
      },
      "file_extension": ".py",
      "mimetype": "text/x-python",
      "name": "python",
      "nbconvert_exporter": "python",
      "pygments_lexer": "ipython3",
      "version": "3.9.12"
    },
    "noteable-chatgpt": {
      "create_notebook": {
        "openai_conversation_id": "504b184c-d235-523c-bfef-c8ed46c530b4",
        "openai_ephemeral_user_id": "57cc986a-1325-5db4-a479-2cd8c6e46113",
        "openai_subdivision1_iso_code": "US-TN"
      }
    },
    "selected_hardware_size": "small"
  },
  "nbformat": 4,
  "nbformat_minor": 5
}
