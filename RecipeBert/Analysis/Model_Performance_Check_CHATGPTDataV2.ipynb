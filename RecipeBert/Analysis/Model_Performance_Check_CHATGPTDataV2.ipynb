{
  "cells": [
    {
      "cell_type": "code",
      "execution_count": null,
      "id": "389596ef-a316-4aaa-8339-a5ce60b302c7",
      "metadata": {
        "ExecuteTime": {
          "end_time": "2023-11-05T18:20:24.557011+00:00",
          "start_time": "2023-11-05T18:20:24.370048+00:00"
        },
        "datalink": {
          "6c85f757-c9f7-4a02-9314-71f5b2a28e39": {
            "applied_filters": [],
            "dataframe_info": {
              "default_index_used": true,
              "orig_num_cols": 3,
              "orig_num_rows": 14,
              "orig_size_bytes": 448,
              "truncated_num_cols": 3,
              "truncated_num_rows": 14,
              "truncated_size_bytes": 448,
              "truncated_string_columns": []
            },
            "display_id": "6c85f757-c9f7-4a02-9314-71f5b2a28e39",
            "dx_settings": {
              "ALLOW_NOTEABLE_ATTRS": true,
              "COLUMN_SAMPLING_METHOD": "outer",
              "DB_LOCATION": ":memory:",
              "DEV_MODE": false,
              "DISPLAY_MAX_COLUMNS": 100,
              "DISPLAY_MAX_ROWS": 50000,
              "DISPLAY_MODE": "simple",
              "ENABLE_ASSIGNMENT": true,
              "ENABLE_DATALINK": true,
              "FLATTEN_COLUMN_VALUES": true,
              "FLATTEN_INDEX_VALUES": false,
              "GENERATE_DEX_METADATA": false,
              "HTML_TABLE_SCHEMA": false,
              "LOG_LEVEL": 30,
              "MAX_RENDER_SIZE_BYTES": 104857600,
              "MAX_STRING_LENGTH": 250,
              "NUM_PAST_SAMPLES_TRACKED": 3,
              "RANDOM_STATE": 12648430,
              "RESET_INDEX_VALUES": false,
              "ROW_SAMPLING_METHOD": "random",
              "SAMPLING_FACTOR": 0.1,
              "SAMPLING_METHOD": "random",
              "STRINGIFY_COLUMN_VALUES": true,
              "STRINGIFY_INDEX_VALUES": false
            },
            "sample_history": [],
            "sampling_time": "2023-11-05T18:20:24.395468",
            "user_variable_name": "df_dummy",
            "variable_name": "df_dummy"
          }
        },
        "noteable": {
          "cell_type": "code",
          "output_collection_id": "8ccab21d-bd39-4698-b13e-d1bf175648fc"
        }
      },
      "outputs": [],
      "source": []
    },
    {
      "cell_type": "markdown",
      "id": "c1e28d49",
      "metadata": {},
      "source": [
        "#Read Bert data"
      ]
    },
    {
      "cell_type": "code",
      "execution_count": null,
      "id": "6d9efebe",
      "metadata": {},
      "outputs": [],
      "source": [
        "n=5000"
      ]
    },
    {
      "cell_type": "code",
      "execution_count": null,
      "id": "2317ed9e",
      "metadata": {},
      "outputs": [],
      "source": [
        "# Read bert similarties subset data.\n",
        "import pandas as pd,numpy as np\n",
        "Bert_Similarity_data=pd.read_csv('/Users/divyamereddy/Documents/PHD/projects/Home Automation/Food_Suggestions_System/RecipeBert/Data/large_cs_df_5000by5000.csv')"
      ]
    },
    {
      "cell_type": "code",
      "execution_count": null,
      "id": "78b3393c",
      "metadata": {},
      "outputs": [],
      "source": [
        "Bert_Similarity_data=Bert_Similarity_data.set_index('title')"
      ]
    },
    {
      "cell_type": "code",
      "execution_count": null,
      "id": "ae4ad04f",
      "metadata": {},
      "outputs": [],
      "source": [
        "print(Bert_Similarity_data.iloc[1:n,1:n].shape)\n",
        "Bert_Similarity_data.iloc[1:n,1:n]"
      ]
    },
    {
      "cell_type": "code",
      "execution_count": null,
      "id": "e688ea9f",
      "metadata": {},
      "outputs": [],
      "source": [
        "Bert_Similarity_data.loc['Fresh Strawberry Pie','Strawberry Whatever']"
      ]
    },
    {
      "cell_type": "code",
      "execution_count": null,
      "id": "c35aaf14",
      "metadata": {},
      "outputs": [],
      "source": [
        "import pandas as pd\n",
        "\n",
        "# Stack the DataFrame and reset the index\n",
        "stacked_Bert_Similarity_data = Bert_Similarity_data.stack().reset_index()\n",
        "\n",
        "# Rename the columns\n",
        "stacked_Bert_Similarity_data.columns = stacked_Bert_Similarity_data.columns\n",
        "\n",
        "# # Optionally, remove self-similarity entries (where item1 == item2)\n",
        "# stacked_df = stacked_df[stacked_df['item1'] != stacked_df['item2']]\n",
        "\n",
        "# Display the long-format DataFrame\n",
        "print(stacked_Bert_Similarity_data.shape)\n",
        "stacked_Bert_Similarity_data.head()"
      ]
    },
    {
      "cell_type": "code",
      "execution_count": null,
      "id": "a554ace5",
      "metadata": {},
      "outputs": [],
      "source": [
        "stacked_Bert_Similarity_data=stacked_Bert_Similarity_data.rename(columns={'title':'Recipe1','level_1':'Recipe2',0:'Similarity'})"
      ]
    },
    {
      "cell_type": "code",
      "execution_count": null,
      "id": "90a2d4dc-cc0e-433f-849e-1392ae935cc3",
      "metadata": {
        "jupyter": {
          "outputs_hidden": false,
          "source_hidden": false
        },
        "noteable": {
          "cell_type": "code"
        }
      },
      "outputs": [],
      "source": [
        "stacked_Bert_Similarity_data.head()"
      ]
    },
    {
      "cell_type": "code",
      "execution_count": null,
      "id": "e3d0e685-7273-4026-92d7-2900fa75cbb7",
      "metadata": {
        "ExecuteTime": {
          "end_time": "2023-11-05T18:21:06.908833+00:00",
          "start_time": "2023-11-05T18:21:06.723716+00:00"
        },
        "datalink": {
          "1d5df918-5d76-4c7e-93e9-0617ebf2f283": {
            "applied_filters": [],
            "dataframe_info": {
              "default_index_used": true,
              "orig_num_cols": 4,
              "orig_num_rows": 8,
              "orig_size_bytes": 320,
              "truncated_num_cols": 4,
              "truncated_num_rows": 8,
              "truncated_size_bytes": 320,
              "truncated_string_columns": []
            },
            "display_id": "1d5df918-5d76-4c7e-93e9-0617ebf2f283",
            "dx_settings": {
              "ALLOW_NOTEABLE_ATTRS": true,
              "COLUMN_SAMPLING_METHOD": "outer",
              "DB_LOCATION": ":memory:",
              "DEV_MODE": false,
              "DISPLAY_MAX_COLUMNS": 100,
              "DISPLAY_MAX_ROWS": 50000,
              "DISPLAY_MODE": "simple",
              "ENABLE_ASSIGNMENT": true,
              "ENABLE_DATALINK": true,
              "FLATTEN_COLUMN_VALUES": true,
              "FLATTEN_INDEX_VALUES": false,
              "GENERATE_DEX_METADATA": false,
              "HTML_TABLE_SCHEMA": false,
              "LOG_LEVEL": 30,
              "MAX_RENDER_SIZE_BYTES": 104857600,
              "MAX_STRING_LENGTH": 250,
              "NUM_PAST_SAMPLES_TRACKED": 3,
              "RANDOM_STATE": 12648430,
              "RESET_INDEX_VALUES": false,
              "ROW_SAMPLING_METHOD": "random",
              "SAMPLING_FACTOR": 0.1,
              "SAMPLING_METHOD": "random",
              "STRINGIFY_COLUMN_VALUES": true,
              "STRINGIFY_INDEX_VALUES": false
            },
            "sample_history": [],
            "sampling_time": "2023-11-05T18:21:06.750018",
            "user_variable_name": "df_chatgpt_similarity",
            "variable_name": "df_chatgpt_similarity"
          }
        },
        "noteable": {
          "cell_type": "code",
          "output_collection_id": "e8d31e32-c5ac-445d-bb02-2e3fd147d85d"
        }
      },
      "outputs": [],
      "source": [
        "import pandas as pd\n",
        "\n",
        "# Convert to DataFrame\n",
        "df_chatgpt_similarity = pd.read_csv(\"/Users/divyamereddy/Documents/PHD/projects/Home Automation/Food_Suggestions_System/RecipeBert/Data/filtered_indian_data_For_Manual_Similarity_edit_it_V3_remove_duplicates_52000_CHATgpt.csv\", on_bad_lines='skip')\n",
        "\n",
        "# Rename columns\n",
        "df_chatgpt_similarity.rename(columns={'title_Recipe1': 'Recipe1', 'title_Recipe2': 'Recipe2'}, inplace=True)\n",
        "df_chatgpt_similarity=df_chatgpt_similarity[['Recipe1','Recipe2','Similarity']]\n",
        "df_chatgpt_similarity=df_chatgpt_similarity.dropna()\n",
        "print(df_chatgpt_similarity.shape)\n",
        "df_chatgpt_similarity.head()"
      ]
    },
    {
      "cell_type": "code",
      "execution_count": null,
      "id": "edf832ef-7922-491b-93db-284ab55d58f0",
      "metadata": {
        "ExecuteTime": {
          "end_time": "2023-11-05T18:24:32.927154+00:00",
          "start_time": "2023-11-05T18:24:32.162678+00:00"
        },
        "noteable": {
          "cell_type": "code",
          "output_collection_id": "737df36c-b1e6-4025-b16e-8e301fdb5786"
        }
      },
      "outputs": [],
      "source": [
        "from scipy.stats import pearsonr\n",
        "\n",
        "# Assuming 'df_dummy' and 'df_chatgpt_similarity' are the two datasets we want to compare\n",
        "# We need to ensure that the pairs of recipes are aligned before calculating the Pearson correlation.\n",
        "# For this example, we will merge the datasets on the recipe pairs to align them.\n",
        "merged_df = pd.merge(stacked_Bert_Similarity_data, df_chatgpt_similarity,  how='inner', left_on=['Recipe1','Recipe2'], right_on = ['Recipe1','Recipe2'])\n",
        "\n",
        "merged_df.head()"
      ]
    },
    {
      "cell_type": "code",
      "execution_count": null,
      "id": "8009b246",
      "metadata": {},
      "outputs": [],
      "source": [
        "merged_df=merged_df.dropna()\n",
        "merged_df['Similarity_x']=merged_df['Similarity_x'].astype('float')\n",
        "merged_df['Similarity_y']=merged_df['Similarity_y'].astype('float')\n",
        "print(merged_df.shape)\n",
        "merged_df.head()"
      ]
    },
    {
      "cell_type": "code",
      "execution_count": null,
      "id": "129e054c",
      "metadata": {},
      "outputs": [],
      "source": [
        "# Calculate the Pearson correlation coefficient for the 'Similarity' columns from both datasets\n",
        "correlation, _ = pearsonr(merged_df['Similarity_x'], merged_df['Similarity_y'])\n",
        "correlation"
      ]
    },
    {
      "cell_type": "code",
      "execution_count": null,
      "id": "f32becbc-2879-4c8f-acc1-6bbe442e49ed",
      "metadata": {
        "ExecuteTime": {
          "end_time": "2023-11-05T18:30:15.990753+00:00",
          "start_time": "2023-11-05T18:30:15.796730+00:00"
        },
        "datalink": {
          "1ee120ef-2ec2-483e-a246-04ceccccc983": {
            "applied_filters": [],
            "dataframe_info": {
              "default_index_used": true,
              "orig_num_cols": 5,
              "orig_num_rows": 2,
              "orig_size_bytes": 96,
              "truncated_num_cols": 5,
              "truncated_num_rows": 2,
              "truncated_size_bytes": 96,
              "truncated_string_columns": []
            },
            "display_id": "1ee120ef-2ec2-483e-a246-04ceccccc983",
            "dx_settings": {
              "ALLOW_NOTEABLE_ATTRS": true,
              "COLUMN_SAMPLING_METHOD": "outer",
              "DB_LOCATION": ":memory:",
              "DEV_MODE": false,
              "DISPLAY_MAX_COLUMNS": 100,
              "DISPLAY_MAX_ROWS": 50000,
              "DISPLAY_MODE": "simple",
              "ENABLE_ASSIGNMENT": true,
              "ENABLE_DATALINK": true,
              "FLATTEN_COLUMN_VALUES": true,
              "FLATTEN_INDEX_VALUES": false,
              "GENERATE_DEX_METADATA": false,
              "HTML_TABLE_SCHEMA": false,
              "LOG_LEVEL": 30,
              "MAX_RENDER_SIZE_BYTES": 104857600,
              "MAX_STRING_LENGTH": 250,
              "NUM_PAST_SAMPLES_TRACKED": 3,
              "RANDOM_STATE": 12648430,
              "RESET_INDEX_VALUES": false,
              "ROW_SAMPLING_METHOD": "random",
              "SAMPLING_FACTOR": 0.1,
              "SAMPLING_METHOD": "random",
              "STRINGIFY_COLUMN_VALUES": true,
              "STRINGIFY_INDEX_VALUES": false
            },
            "sample_history": [],
            "sampling_time": "2023-11-05T18:30:15.831684",
            "user_variable_name": null,
            "variable_name": "unk_dataframe_55d5a91a89ac4234b2d3af3d4cc046d9"
          }
        },
        "noteable": {
          "cell_type": "code",
          "output_collection_id": "f9c9ae3b-44bb-4270-9999-ecf5f5f845c7"
        }
      },
      "outputs": [],
      "source": [
        "# Subtract the 'Similarity' scores of the common pairs between the two datasets\n",
        "merged_df['Similarity_Difference'] = merged_df['Similarity_x'] - merged_df['Similarity_y']\n",
        "merged_df[['Recipe1', 'Recipe2', 'Similarity_x', 'Similarity_y', 'Similarity_Difference']]"
      ]
    },
    {
      "cell_type": "code",
      "execution_count": null,
      "id": "d8eea9ef",
      "metadata": {},
      "outputs": [],
      "source": []
    }
  ],
  "metadata": {
    "kernel_info": {
      "name": "python3"
    },
    "kernelspec": {
      "display_name": "Python 3.9",
      "identifier": "legacy",
      "language": "python",
      "language_version": "3.9",
      "name": "python3"
    },
    "language_info": {
      "codemirror_mode": {
        "name": "ipython",
        "version": 3
      },
      "file_extension": ".py",
      "mimetype": "text/x-python",
      "name": "python",
      "nbconvert_exporter": "python",
      "pygments_lexer": "ipython3",
      "version": "3.9.12"
    },
    "noteable-chatgpt": {
      "create_notebook": {
        "openai_conversation_id": "504b184c-d235-523c-bfef-c8ed46c530b4",
        "openai_ephemeral_user_id": "13225303-1970-50b2-a97f-b512553b5860",
        "openai_subdivision1_iso_code": "US-TN"
      }
    },
    "selected_hardware_size": "small"
  },
  "nbformat": 4,
  "nbformat_minor": 5
}
