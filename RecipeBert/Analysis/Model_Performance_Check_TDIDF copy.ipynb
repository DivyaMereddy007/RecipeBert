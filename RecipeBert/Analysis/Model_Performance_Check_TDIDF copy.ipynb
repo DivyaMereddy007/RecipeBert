{
  "cells": [
    {
      "cell_type": "code",
      "execution_count": null,
      "id": "c30b59c1-f84c-4b11-b0fa-0170c67a9dc2",
      "metadata": {
        "ExecuteTime": {
          "end_time": "2023-10-20T00:02:24.255857+00:00",
          "start_time": "2023-10-20T00:01:40.580485+00:00"
        },
        "noteable": {
          "cell_type": "code",
          "output_collection_id": "09c2004a-4da2-4261-b2ce-89bd562b6b2c"
        }
      },
      "outputs": [],
      "source": [
        "n=20"
      ]
    },
    {
      "cell_type": "markdown",
      "id": "2f6c10d2",
      "metadata": {},
      "source": [
        "#   Step1:\n",
        "Read data &    modify some data \n",
        "\n",
        " Read TFIDF data created \n",
        "\n",
        " Save the expanded similarity matrix to a CSV file  - TDIDF\n",
        "large_csv_file_path = 'Data/large_recipe_similarity_matrix.csv'\n",
        "similarity_df=pd.read_csv(large_csv_file_path)\n",
        "large_csv_file_path\n",
        "\n",
        "   Below is extracted bert similarity score for similarity_df[1:5000] recipes\n",
        " cs_df.index=data[data['title'].isin(TF-ITFsimilarity_df.columns[1:5000])]['title'][:5000]\n",
        "cs_df_5000by5000 f0r n=50000\n",
        "\n",
        "# Step2 \n",
        "  compare both."
      ]
    },
    {
      "cell_type": "markdown",
      "id": "d049ebf8",
      "metadata": {},
      "source": [
        "### step1: Take any additional filtering steps needed."
      ]
    },
    {
      "cell_type": "code",
      "execution_count": null,
      "id": "5b2f0247",
      "metadata": {},
      "outputs": [],
      "source": [
        "# Read bert similarties subset data.\n",
        "import pandas as pd,numpy as np\n",
        "Bert_Similarity_data=pd.read_csv('/Users/divyamereddy/Documents/PHD/projects/Home Automation/Food_Suggestions_System/RecipeBert/Data/large_cs_df_1000by1000.csv')"
      ]
    },
    {
      "cell_type": "code",
      "execution_count": null,
      "id": "c0beae8d",
      "metadata": {},
      "outputs": [],
      "source": [
        "Bert_Similarity_data.head()"
      ]
    },
    {
      "cell_type": "code",
      "execution_count": null,
      "id": "d9ddbd26",
      "metadata": {},
      "outputs": [],
      "source": [
        "Bert_Similarity_data=Bert_Similarity_data.set_index('title')"
      ]
    },
    {
      "cell_type": "code",
      "execution_count": null,
      "id": "70f87e0c",
      "metadata": {},
      "outputs": [],
      "source": []
    },
    {
      "cell_type": "code",
      "execution_count": null,
      "id": "c86a9d05",
      "metadata": {},
      "outputs": [],
      "source": [
        "Bert_Similarity_data.loc['Fresh Strawberry Pie','Strawberry Whatever']"
      ]
    },
    {
      "cell_type": "markdown",
      "id": "dfec16d3",
      "metadata": {},
      "source": [
        "####  check if needed: Remove Duplicates RecipeA, RecipeB is duplicate of RecipeB, Recipe A. I should have taken only upper or down triangle of matric"
      ]
    },
    {
      "cell_type": "markdown",
      "id": "9d7c9e30",
      "metadata": {},
      "source": [
        " Read data TDIDF and original data \n",
        "    Process data if needed"
      ]
    },
    {
      "cell_type": "code",
      "execution_count": null,
      "id": "c35e572d",
      "metadata": {},
      "outputs": [],
      "source": [
        "#large_csv_file_path = 'Data/large_recipe_similarity_matrix.csv' #this is TD-IDF similarity matrix\n",
        "large_csv_file_path = '/Users/divyamereddy/Documents/PHD/projects/Home Automation/Food_Suggestions_System/RecipeBert/Data/recipe_similarity_matrix.csv'\n",
        "TF_ITF_similarity_df=pd.read_csv(large_csv_file_path)\n",
        "large_csv_file_path"
      ]
    },
    {
      "cell_type": "code",
      "execution_count": null,
      "id": "c7a01e3b",
      "metadata": {},
      "outputs": [],
      "source": [
        "TF_ITF_similarity_df"
      ]
    },
    {
      "cell_type": "code",
      "execution_count": null,
      "id": "6e30f7e0",
      "metadata": {},
      "outputs": [],
      "source": [
        "TF_ITF_similarity_df=TF_ITF_similarity_df.set_index('Unnamed: 0')"
      ]
    },
    {
      "cell_type": "code",
      "execution_count": null,
      "id": "9a7e2a5e",
      "metadata": {},
      "outputs": [],
      "source": [
        "#read TFIDF data\n",
        "print(TF_ITF_similarity_df.iloc[1:n,1:n].shape)\n",
        "TF_ITF_similarity_df.iloc[1:n,1:n]"
      ]
    },
    {
      "cell_type": "code",
      "execution_count": null,
      "id": "662641f0",
      "metadata": {},
      "outputs": [],
      "source": [
        "TF_ITF_similarity_df.loc['Fresh Strawberry Pie','Strawberry Whatever']"
      ]
    },
    {
      "cell_type": "markdown",
      "id": "b1e3615f",
      "metadata": {},
      "source": [
        "## Compare both the files/ matrixs"
      ]
    },
    {
      "cell_type": "markdown",
      "id": "85ef7959",
      "metadata": {},
      "source": []
    },
    {
      "cell_type": "code",
      "execution_count": null,
      "id": "bf2228b3",
      "metadata": {},
      "outputs": [],
      "source": [
        "TF_ITF_similarity_df.index"
      ]
    },
    {
      "cell_type": "code",
      "execution_count": null,
      "id": "98c16c3a",
      "metadata": {},
      "outputs": [],
      "source": [
        "Bert_Similarity_data.index"
      ]
    },
    {
      "cell_type": "code",
      "execution_count": null,
      "id": "b4d77573",
      "metadata": {},
      "outputs": [],
      "source": [
        "Bert_Similarity_data.loc['Scalloped Corn','Creamy Corn'] # mutiple values, so we will take average"
      ]
    },
    {
      "cell_type": "code",
      "execution_count": null,
      "id": "70a3a9c1",
      "metadata": {},
      "outputs": [],
      "source": [
        "# Find common columns and row indices\n",
        "common_cols = TF_ITF_similarity_df.columns.intersection(Bert_Similarity_data.columns)\n",
        "common_rows = TF_ITF_similarity_df.index.intersection(Bert_Similarity_data.index)\n",
        "\n",
        "# Extract sub-dataframes with only common rows and columns\n",
        "common_TF_ITF_similarity_df = TF_ITF_similarity_df.loc[common_rows, common_cols]\n",
        "common_Bert_Similarity_data = Bert_Similarity_data.loc[common_rows, common_cols]\n",
        "\n",
        "\n",
        "# Group by index and columns and take the mean for common_df2\n",
        "common_Bert_Similarity_data = common_Bert_Similarity_data.groupby(level=0, axis=0).mean()\n",
        "common_Bert_Similarity_data = common_Bert_Similarity_data.groupby(level=0, axis=1).mean()\n",
        "\n",
        "# Sort columns\n",
        "common_TF_ITF_similarity_df.sort_index(axis=1, inplace=True)\n",
        "\n",
        "# Sort rows\n",
        "common_TF_ITF_similarity_df.sort_index(axis=0, inplace=True)\n",
        "\n",
        "# Sort columns\n",
        "common_Bert_Similarity_data.sort_index(axis=1, inplace=True)\n",
        "\n",
        "# Sort rows\n",
        "common_Bert_Similarity_data.sort_index(axis=0, inplace=True)\n",
        "\n",
        "# If you're using pandas version >= 1.1.0, you can use groupby with axis parameter:\n",
        "# common_df2 = common_df2.groupby(axis=0, level=0).mean()\n",
        "# common_df2 = common_df2.groupby(axis=1, level=0).mean()\n",
        "\n",
        "# Perform comparison (For example, calculating the difference)\n",
        "comparison_similarity = common_Bert_Similarity_data-common_TF_ITF_similarity_df \n"
      ]
    },
    {
      "cell_type": "code",
      "execution_count": null,
      "id": "5641d176",
      "metadata": {},
      "outputs": [],
      "source": [
        "common_TF_ITF_similarity_df"
      ]
    },
    {
      "cell_type": "code",
      "execution_count": null,
      "id": "6c6ff3d0",
      "metadata": {},
      "outputs": [],
      "source": [
        "common_Bert_Similarity_data"
      ]
    },
    {
      "cell_type": "code",
      "execution_count": null,
      "id": "9c57754e",
      "metadata": {},
      "outputs": [],
      "source": [
        "\n",
        "comparison_similarity"
      ]
    },
    {
      "cell_type": "code",
      "execution_count": null,
      "id": "02b53aaa",
      "metadata": {},
      "outputs": [],
      "source": [
        "#common_TF_ITF_similarity_df.loc['Scalloped Corn','Creamy Corn']\n",
        "common_TF_ITF_similarity_df.loc[\"Annie'S Diabetic Candy\",\"*Apricot Salad\"]"
      ]
    },
    {
      "cell_type": "code",
      "execution_count": null,
      "id": "f46391a3",
      "metadata": {},
      "outputs": [],
      "source": [
        "#common_Bert_Similarity_data.loc['Scalloped Corn','Creamy Corn']\n",
        "common_Bert_Similarity_data.loc[\"Annie'S Diabetic Candy\",\"*Apricot Salad\"]"
      ]
    },
    {
      "cell_type": "code",
      "execution_count": null,
      "id": "e7a7f5e7",
      "metadata": {},
      "outputs": [],
      "source": [
        "#comparison_similarity.loc['Scalloped Corn','Creamy Corn']\n",
        "comparison_similarity.loc[\"Annie'S Diabetic Candy\",\"Annie'S Diabetic Candy\"]\n",
        "#comparison_similarity.loc[\"Annie'S Diabetic Candy\",\"*Apricot Salad\"]"
      ]
    },
    {
      "cell_type": "code",
      "execution_count": null,
      "id": "e38c6471",
      "metadata": {},
      "outputs": [],
      "source": [
        "common_TF_ITF_similarity_df.describe()"
      ]
    },
    {
      "cell_type": "code",
      "execution_count": null,
      "id": "8404572a",
      "metadata": {},
      "outputs": [],
      "source": [
        "common_Bert_Similarity_data.describe()"
      ]
    },
    {
      "cell_type": "code",
      "execution_count": null,
      "id": "3078ca27",
      "metadata": {},
      "outputs": [],
      "source": [
        "comparison_similarity.describe()"
      ]
    },
    {
      "cell_type": "code",
      "execution_count": null,
      "id": "4fbc8de0",
      "metadata": {},
      "outputs": [],
      "source": [
        "sns.heatmap(comparison_similarity)"
      ]
    },
    {
      "cell_type": "code",
      "execution_count": null,
      "id": "1788a15a",
      "metadata": {},
      "outputs": [],
      "source": [
        "# Analysizing Corelation with a statistical test"
      ]
    },
    {
      "cell_type": "code",
      "execution_count": null,
      "id": "3c65bba2",
      "metadata": {},
      "outputs": [],
      "source": [
        "from scipy.stats import pearsonr\n",
        "from scipy.stats import spearmanr\n",
        "\n",
        "# Flatten the matrices and compute Pearson correlation\n",
        "flattened_common_TF_ITF_similarity_df = common_TF_ITF_similarity_df.to_numpy().flatten()\n",
        "flattened_common_Bert_Similarity_data = common_Bert_Similarity_data.to_numpy().flatten()\n",
        "\n",
        "correlation_coefficient, _ = pearsonr(flattened_common_Bert_Similarity_data, flattened_common_TF_ITF_similarity_df)\n",
        "#spearmanr\n",
        "correlation_coefficient_s, _ = spearmanr(flattened_common_Bert_Similarity_data, flattened_common_TF_ITF_similarity_df)\n",
        "\n",
        "print(f\"Pearson correlation coefficient: {correlation_coefficient}\")\n",
        "\n",
        "# Interpretation\n",
        "if correlation_coefficient > 0.5:\n",
        "    print(\"The matrices are positively correlated.\")\n",
        "elif correlation_coefficient < -0.5:\n",
        "    print(\"The matrices are negatively correlated.\")\n",
        "else:\n",
        "    print(\"The matrices are not strongly correlated.\")\n",
        "print('correlation_coefficient_s',correlation_coefficient_s)\n"
      ]
    },
    {
      "cell_type": "code",
      "execution_count": null,
      "id": "67354242",
      "metadata": {},
      "outputs": [],
      "source": [
        "common_Bert_Similarity_data"
      ]
    },
    {
      "cell_type": "code",
      "execution_count": null,
      "id": "1e86ceb1",
      "metadata": {},
      "outputs": [],
      "source": [
        "common_TF_ITF_similarity_df"
      ]
    },
    {
      "cell_type": "code",
      "execution_count": null,
      "id": "be4d0fcf",
      "metadata": {},
      "outputs": [],
      "source": [
        "common_TF_ITF_similarity_df.loc['Summer Chicken','Taco Salad Chip Dip']"
      ]
    },
    {
      "cell_type": "code",
      "execution_count": null,
      "id": "004f7998",
      "metadata": {},
      "outputs": [],
      "source": [
        "common_Bert_Similarity_data.loc['Summer Chicken','Summer Spaghetti']\n",
        "#['Taco Dip','Taco-Filled Green Pepper']#Taco-Filled Green Pepper,Taco Salad Chip Dip"
      ]
    },
    {
      "cell_type": "code",
      "execution_count": null,
      "id": "9f816895",
      "metadata": {},
      "outputs": [],
      "source": [
        "import seaborn as sns\n",
        "import matplotlib.pyplot as plt\n",
        "\n",
        "# Calculate the pairwise Pearson correlation between elements\n",
        "correlation_matrix = common_Bert_Similarity_data.corrwith(common_TF_ITF_similarity_df)\n"
      ]
    },
    {
      "cell_type": "code",
      "execution_count": null,
      "id": "0a71341a",
      "metadata": {},
      "outputs": [],
      "source": [
        "correlation_matrix"
      ]
    },
    {
      "cell_type": "code",
      "execution_count": null,
      "id": "80e3194f",
      "metadata": {},
      "outputs": [],
      "source": [
        "\n",
        "# Generate a heatmap using Seaborn\n",
        "sns.heatmap(pd.DataFrame(correlation_matrix).rename(columns={0: 'Correlation'})#.set_index(pd.Index([0]))\n",
        ",\n",
        "            annot=True, cmap='coolwarm', vmin=-1, vmax=1)\n",
        "plt.title('Correlation Between common_df1 and common_df2')\n",
        "plt.show()"
      ]
    },
    {
      "cell_type": "code",
      "execution_count": null,
      "metadata": {},
      "outputs": [],
      "source": [
        "correlation_matrix"
      ]
    },
    {
      "cell_type": "code",
      "execution_count": null,
      "id": "a3119802",
      "metadata": {},
      "outputs": [],
      "source": [
        "correlation_matrix.describe()"
      ]
    },
    {
      "cell_type": "code",
      "execution_count": null,
      "id": "f56d4ab6",
      "metadata": {},
      "outputs": [],
      "source": [
        "1"
      ]
    },
    {
      "cell_type": "code",
      "execution_count": null,
      "id": "47e34d79",
      "metadata": {},
      "outputs": [],
      "source": []
    }
  ],
  "metadata": {
    "kernel_info": {
      "name": "python3"
    },
    "kernelspec": {
      "display_name": "Python 3.9",
      "identifier": "legacy",
      "language": "python",
      "language_version": "3.9",
      "name": "python3"
    },
    "language_info": {
      "codemirror_mode": {
        "name": "ipython",
        "version": 3
      },
      "file_extension": ".py",
      "mimetype": "text/x-python",
      "name": "python",
      "nbconvert_exporter": "python",
      "pygments_lexer": "ipython3",
      "version": "3.9.12"
    },
    "noteable-chatgpt": {
      "create_notebook": {
        "openai_conversation_id": "504b184c-d235-523c-bfef-c8ed46c530b4",
        "openai_ephemeral_user_id": "57cc986a-1325-5db4-a479-2cd8c6e46113",
        "openai_subdivision1_iso_code": "US-TN"
      }
    },
    "selected_hardware_size": "small"
  },
  "nbformat": 4,
  "nbformat_minor": 5
}
