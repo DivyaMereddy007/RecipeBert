{
  "cells": [
    {
      "cell_type": "markdown",
      "id": "c6bdb76c",
      "metadata": {},
      "source": [
        "# for TDIDF data record recipes, create bert bases similarity score matrix. So we can compare both"
      ]
    },
    {
      "cell_type": "code",
      "execution_count": null,
      "id": "f22a0735",
      "metadata": {},
      "outputs": [],
      "source": [
        "n=5000\n",
        "#for 5000by500 cs matrix, 1000 for cs_1000 matrix"
      ]
    },
    {
      "cell_type": "code",
      "execution_count": null,
      "id": "1HWp49OSv5IR",
      "metadata": {
        "colab": {
          "base_uri": "https://localhost:8080/"
        },
        "id": "1HWp49OSv5IR",
        "outputId": "3624e928-d3f9-44e5-967c-5e9bfee55e16"
      },
      "outputs": [],
      "source": [
        "# from google.colab import drive\n",
        "# drive.mount('/content/drive')"
      ]
    },
    {
      "cell_type": "code",
      "execution_count": null,
      "id": "d9T5l-_qv7jL",
      "metadata": {
        "colab": {
          "base_uri": "https://localhost:8080/"
        },
        "id": "d9T5l-_qv7jL",
        "outputId": "30246756-5075-40de-c0c3-4166d05db9e1"
      },
      "outputs": [],
      "source": [
        "# gpu_info = !nvidia-smi\n",
        "# gpu_info = '\\n'.join(gpu_info)\n",
        "# if gpu_info.find('failed') >= 0:\n",
        "#   print('Not connected to a GPU')\n",
        "# else:\n",
        "#   print(gpu_info)"
      ]
    },
    {
      "cell_type": "code",
      "execution_count": null,
      "id": "afo6r5ccv78A",
      "metadata": {
        "id": "afo6r5ccv78A"
      },
      "outputs": [],
      "source": [
        "# !pip install -q pandas\n",
        "# !pip install -q numpy\n",
        "# !pip install -q scikit-learn\n",
        "# !pip install -q nltk"
      ]
    },
    {
      "cell_type": "code",
      "execution_count": null,
      "id": "7fbcdfb2",
      "metadata": {
        "id": "7fbcdfb2"
      },
      "outputs": [],
      "source": [
        "import pandas as pd\n",
        "import pickle\n",
        "import numpy as np\n",
        "import nltk\n",
        "#nltk.download('omw-1.4')"
      ]
    },
    {
      "cell_type": "code",
      "execution_count": null,
      "id": "-A5mG6LGstBZ",
      "metadata": {
        "colab": {
          "base_uri": "https://localhost:8080/",
          "height": 595
        },
        "id": "-A5mG6LGstBZ",
        "outputId": "eed57fc6-e3de-4303-cfc9-cb821cf5520c"
      },
      "outputs": [],
      "source": [
        "import pandas as pd\n",
        "import pickle\n",
        "import numpy as np\n",
        "data=pd.read_csv('Data/full_dataset.csv') #RecipeNLG_dataset\n",
        "data['NER']\n",
        "data.head()"
      ]
    },
    {
      "cell_type": "code",
      "execution_count": null,
      "id": "e1844fa3",
      "metadata": {},
      "outputs": [],
      "source": []
    },
    {
      "cell_type": "markdown",
      "id": "e8e3085d",
      "metadata": {},
      "source": [
        "# recipe_similarity_matrix is created in Ingrients_Similarity_Validation_Dataset_creation_TFIDF.ipynb notebook based on some selected recipes. \n",
        "#   Score calculated based on TF-IDF score."
      ]
    },
    {
      "cell_type": "code",
      "execution_count": null,
      "id": "b0ea735b-5c56-49ef-a872-85ef14761606",
      "metadata": {
        "ExecuteTime": {
          "end_time": "2023-10-26T02:47:45.394796+00:00",
          "start_time": "2023-10-26T02:47:45.210223+00:00"
        },
        "id": "b0ea735b-5c56-49ef-a872-85ef14761606",
        "noteable": {
          "cell_type": "code",
          "output_collection_id": "41031fd9-57c2-4bd1-a49b-5cfe4b6051d1"
        }
      },
      "outputs": [],
      "source": [
        "# Save the expanded similarity matrix to a CSV file\n",
        "#large_csv_file_path = 'Data/large_recipe_similarity_matrix.csv'\n",
        "large_csv_file_path = 'Data/large_recipe_similarity_matrix.csv'\n",
        "similarity_df=pd.read_csv(large_csv_file_path)\n",
        "large_csv_file_path"
      ]
    },
    {
      "cell_type": "code",
      "execution_count": null,
      "id": "88943d0f",
      "metadata": {
        "id": "88943d0f"
      },
      "outputs": [],
      "source": [
        "similarity_df"
      ]
    },
    {
      "cell_type": "code",
      "execution_count": null,
      "id": "90770870",
      "metadata": {},
      "outputs": [],
      "source": []
    },
    {
      "cell_type": "code",
      "execution_count": null,
      "id": "667c2b48",
      "metadata": {
        "id": "667c2b48"
      },
      "outputs": [],
      "source": [
        "import pickle\n",
        "import pandas as pd\n",
        "sentence_vecs=pd.read_pickle(\"Data/sentence_vecs.pkl\")\n",
        "#sentence_vecs=pd.read_pickle(\"Data/sentence_vecs_v1.pkl\")#complete dataset\n",
        "from sklearn.metrics.pairwise import cosine_similarity"
      ]
    },
    {
      "cell_type": "code",
      "execution_count": null,
      "id": "9a8232c9",
      "metadata": {},
      "outputs": [],
      "source": [
        "# data[data['title'].isin(similarity_df.columns[1:n])].index.values[:n].shape"
      ]
    },
    {
      "cell_type": "code",
      "execution_count": null,
      "id": "0e173fa2",
      "metadata": {
        "id": "0e173fa2"
      },
      "outputs": [],
      "source": [
        "import pandas as pd\n",
        "import numpy as np\n",
        "\n",
        "Filter_index=data[data['title'].isin(similarity_df.columns[1:n])].index.values\n",
        "#Filter_index=similarity_df['title']\n",
        "Filter_index=Filter_index[:n]\n",
        "print(Filter_index.shape)\n",
        "Filter_index"
      ]
    },
    {
      "cell_type": "code",
      "execution_count": null,
      "id": "a2c260d9",
      "metadata": {
        "id": "a2c260d9"
      },
      "outputs": [],
      "source": [
        "predicted_similarity_matrix_filter = cosine_similarity(sentence_vecs[Filter_index, :])\n",
        "\n",
        "predicted_similarity_matrix_filter"
      ]
    },
    {
      "cell_type": "code",
      "execution_count": null,
      "id": "aebf7651",
      "metadata": {
        "id": "aebf7651"
      },
      "outputs": [],
      "source": [
        "# Assume cs is your cosine similarity matrix and has the same number of rows as sentence_vecs\n",
        "cs_df = pd.DataFrame(predicted_similarity_matrix_filter)\n"
      ]
    },
    {
      "cell_type": "code",
      "execution_count": null,
      "id": "1bfb679a",
      "metadata": {},
      "outputs": [],
      "source": [
        "cs_df"
      ]
    },
    {
      "cell_type": "code",
      "execution_count": null,
      "id": "80b64833",
      "metadata": {},
      "outputs": [],
      "source": [
        "data[data['title'].isin(similarity_df.columns[1:n])]['title'].head()"
      ]
    },
    {
      "cell_type": "code",
      "execution_count": null,
      "id": "3787db26",
      "metadata": {},
      "outputs": [],
      "source": [
        "data.head()"
      ]
    },
    {
      "cell_type": "code",
      "execution_count": null,
      "id": "98cdc9ee",
      "metadata": {},
      "outputs": [],
      "source": [
        "n=50"
      ]
    },
    {
      "cell_type": "code",
      "execution_count": null,
      "id": "9c685528",
      "metadata": {},
      "outputs": [],
      "source": [
        "cs_df.index=data[data['title'].isin(similarity_df.columns[1:n])]['title'][:n]\n",
        "cs_df.columns=cs_df.index"
      ]
    },
    {
      "cell_type": "code",
      "execution_count": null,
      "id": "b74a18d0",
      "metadata": {},
      "outputs": [],
      "source": [
        "data[data['title'].isin(similarity_df.columns[1:n])]['title'].shape"
      ]
    },
    {
      "cell_type": "code",
      "execution_count": null,
      "id": "58f110c8",
      "metadata": {
        "id": "58f110c8"
      },
      "outputs": [],
      "source": [
        "\n",
        "# # Slice the recipe titles to match the number of rows/columns in the DataFrame\n",
        "# relevant_titles = data['title'][data['title'].isin(similarity_df.columns[1:])].iloc[:cs_df.shape[0]]\n",
        "\n",
        "# # Set row index and column index to recipe titles\n",
        "# cs_df.index = relevant_titles\n",
        "# cs_df.columns = relevant_titles\n",
        "\n",
        "# Now, cs_df will have recipe titles as both its row index and column index.\n",
        "print(cs_df.head())\n"
      ]
    },
    {
      "cell_type": "code",
      "execution_count": null,
      "id": "076a32d1",
      "metadata": {
        "id": "076a32d1"
      },
      "outputs": [],
      "source": [
        "value = cs_df.loc['No-Bake Nut Cookies', 'No-Bake Nut Cookies']\n",
        "print(value)"
      ]
    },
    {
      "cell_type": "code",
      "execution_count": null,
      "id": "9b5999d9",
      "metadata": {},
      "outputs": [],
      "source": [
        "cs_df.to_csv('cs_df.csv')"
      ]
    }
  ],
  "metadata": {
    "colab": {
      "provenance": []
    },
    "kernel_info": {
      "name": "python3"
    },
    "kernelspec": {
      "display_name": "Python 3.9",
      "identifier": "legacy",
      "language": "python",
      "language_version": "3.9",
      "name": "python3"
    },
    "language_info": {
      "codemirror_mode": {
        "name": "ipython",
        "version": 3
      },
      "file_extension": ".py",
      "mimetype": "text/x-python",
      "name": "python",
      "nbconvert_exporter": "python",
      "pygments_lexer": "ipython3",
      "version": "3.9.12"
    },
    "noteable-chatgpt": {
      "create_notebook": {
        "openai_conversation_id": "b3cbecf3-7625-5f0b-b7a1-bc04d9d82eb4",
        "openai_ephemeral_user_id": "3f2bc202-d5b2-5e2e-8bce-8b4f7faebda2",
        "openai_subdivision1_iso_code": "US-TN"
      }
    },
    "selected_hardware_size": "small"
  },
  "nbformat": 4,
  "nbformat_minor": 5
}
